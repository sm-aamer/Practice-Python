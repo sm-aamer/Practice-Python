{
  "nbformat": 4,
  "nbformat_minor": 0,
  "metadata": {
    "colab": {
      "provenance": [],
      "authorship_tag": "ABX9TyN7BUVSITUHd4/G+4d1ljpf",
      "include_colab_link": true
    },
    "kernelspec": {
      "name": "python3",
      "display_name": "Python 3"
    },
    "language_info": {
      "name": "python"
    }
  },
  "cells": [
    {
      "cell_type": "markdown",
      "metadata": {
        "id": "view-in-github",
        "colab_type": "text"
      },
      "source": [
        "<a href=\"https://colab.research.google.com/github/sm-aamer/Practice-Python/blob/main/Assignment_PIAIC_Q1.ipynb\" target=\"_parent\"><img src=\"https://colab.research.google.com/assets/colab-badge.svg\" alt=\"Open In Colab\"/></a>"
      ]
    },
    {
      "cell_type": "markdown",
      "source": [
        "#01 Basic\n",
        "##Problem Statement (Joke Bot)\n",
        "Write a simple joke bot. The bot starts by asking the user what they want. However, your program will only respond to one response: Joke.\n",
        "\n",
        "If the user enters Joke then we will print out a single joke. Each time the joke is always the same:\n",
        "\n",
        "Here is a joke for you! Panaversity GPT - Sophia is heading out to the grocery store. A programmer tells her: get a liter of milk, and if they have eggs, get 12. Sophia returns with 13 liters of milk. The programmer asks why and Sophia replies: 'because they had eggs'\n",
        "\n",
        "If the user enters anything else we print out:\n",
        "\n",
        "Sorry I only tell jokes\n",
        "\n",
        "You should use the three constants:\n",
        "\n",
        "PROMPT JOKE SORRY\n",
        "\n",
        "which contain the strings for the prompt asked to the user, the joke to print out if the user enters Joke and the sorry message if the user enters anything else.\n",
        "\n",
        "Your program will need to use an if statement which checks if the user input is Joke:\n",
        "\n",
        "if user_input == \"Joke\":\n",
        "\n",
        "Recall that == is a comparison which tests if two values are equal to one another.\n",
        "\n",
        "Here is a full run of the program (user input is in blue):\n",
        "\n",
        "What do you want? Joke Here is a joke for you! Panaversity GPT - Sophia is heading out to the grocery store. A programmer tells her: get a liter of milk, and if they have eggs, get 12. Sophia returns with 13 liters of milk. The programmer asks why and Sophia replies: 'because they had eggs'"
      ],
      "metadata": {
        "id": "4Tyd3NO-qKXx"
      }
    },
    {
      "cell_type": "code",
      "execution_count": null,
      "metadata": {
        "colab": {
          "base_uri": "https://localhost:8080/"
        },
        "id": "gTIyrr7sqArQ",
        "outputId": "7fb7b81e-6cf8-4d07-ebae-1ce9fa70321b"
      },
      "outputs": [
        {
          "output_type": "stream",
          "name": "stdout",
          "text": [
            "What do you want?jOKE\n",
            "Here is a joke for you! Panaversity GPT - Sophia is heading out to the grocery store. A programmer tells her: get a liter of milk, and if they have eggs, get 12. Sophia returns with 13 liters of milk. The programmer asks why and Sophia replies: 'because they had eggs'\n"
          ]
        }
      ],
      "source": [
        "joke: str = \"Here is a joke for you! Panaversity GPT - Sophia is heading out to the grocery store. A programmer tells her: get a liter of milk, and if they have eggs, get 12. Sophia returns with 13 liters of milk. The programmer asks why and Sophia replies: 'because they had eggs'\"\n",
        "sorry: str = \"Sorry I only tell jokes\"\n",
        "statement: str = \"What do you want?\"\n",
        "\n",
        "def main():\n",
        "    user_input = input(statement)\n",
        "    user_input = user_input.strip().lower()\n",
        "    if \"joke\" in user_input:\n",
        "        print(joke)\n",
        "    else:\n",
        "        print(sorry)\n",
        "\n",
        "main()"
      ]
    },
    {
      "cell_type": "markdown",
      "source": [
        "##Problem Statement (Double It)\n",
        "Write a program that asks a user to enter a number. Your program will then double that number and print out the result. It will repeat that process until the value is 100 or greater.\n",
        "\n",
        "For example if the user enters the number 2 you would then print:\n",
        "\n",
        "4 8 16 32 64 128\n",
        "\n",
        "Note that:\n",
        "\n",
        "2 doubled is 4\n",
        "\n",
        "4 doubled is 8\n",
        "\n",
        "8 doubled is 16\n",
        "\n",
        "and so on."
      ],
      "metadata": {
        "id": "uB4JaGjw7-nA"
      }
    },
    {
      "cell_type": "code",
      "source": [
        "def main():\n",
        "    user_input = int(input(\"Enter a number: \"))\n",
        "    while user_input < 100:\n",
        "        user_input *= 2\n",
        "        print(user_input, end = \" \")\n",
        "    print()\n",
        "\n",
        "main()"
      ],
      "metadata": {
        "colab": {
          "base_uri": "https://localhost:8080/"
        },
        "id": "0xcBOzak8MGo",
        "outputId": "c861c8c7-3e08-4ae9-f716-fede378e4018"
      },
      "execution_count": null,
      "outputs": [
        {
          "output_type": "stream",
          "name": "stdout",
          "text": [
            "Enter a number: 2\n",
            "4 8 16 32 64 128 \n"
          ]
        }
      ]
    },
    {
      "cell_type": "markdown",
      "source": [
        "##Problem Statement (Lift Off)\n",
        "Write a program that prints out the calls for a spaceship that is about to launch. Countdown from 10 to 1 and then output Liftoff!\n",
        "\n",
        "Here's a sample run of the program:\n",
        "\n",
        "10 9 8 7 6 5 4 3 2 1 Liftoff!\n",
        "\n",
        "There are many ways to solve this problem. One approach is to use a for loop, and to use the for loop variable i. Recall that i will keep track of how many times the for loop has completed executing its body."
      ],
      "metadata": {
        "id": "YKhA2pao8x3d"
      }
    },
    {
      "cell_type": "code",
      "source": [
        "def main():\n",
        "    for i in range(10, 0, -1):\n",
        "        print(i, end = \" \")\n",
        "    print(\"Liftoff!\")\n",
        "\n",
        "main()"
      ],
      "metadata": {
        "colab": {
          "base_uri": "https://localhost:8080/"
        },
        "id": "dtDM2FfY89cD",
        "outputId": "678f4029-7a8f-4f3c-92a5-29f6bbf9b0e4"
      },
      "execution_count": null,
      "outputs": [
        {
          "output_type": "stream",
          "name": "stdout",
          "text": [
            "10 9 8 7 6 5 4 3 2 1 Liftoff!\n"
          ]
        }
      ]
    },
    {
      "cell_type": "markdown",
      "source": [
        "##Problem Statement (Guess My Number)\n",
        "\n",
        "I am thinking of a number between 0 and 99... Enter a guess: 50 Your guess is too high\n",
        "\n",
        "Enter a new number: 25 Your guess is too low\n",
        "\n",
        "Enter a new number: 40 Your guess is too low\n",
        "\n",
        "Enter a new number: 45 Your guess is too low\n",
        "\n",
        "Enter a new number: 48 Congrats! The number was: 48"
      ],
      "metadata": {
        "id": "65dwaqYB9O-F"
      }
    },
    {
      "cell_type": "code",
      "source": [
        "import random\n",
        "\n",
        "def main():\n",
        "    number = random.randint(0, 99)\n",
        "    guess = int(input(\"I am thinking of a number between 0 and 99... Enter a guess: \"))\n",
        "    while guess != number:\n",
        "        if guess > number:\n",
        "            print(\"Your guess is too high\")\n",
        "        else:\n",
        "            print(\"Your guess is too low\")\n",
        "        print(\"****************************\")\n",
        "        guess = int(input(\"Enter a new number: \"))\n",
        "    print(f\"Congrats! The number was: {number}\")\n",
        "main()\n"
      ],
      "metadata": {
        "colab": {
          "base_uri": "https://localhost:8080/"
        },
        "id": "eyAYFgbd9X6O",
        "outputId": "9559a4e8-6c44-42ef-e503-7791a39220c4"
      },
      "execution_count": null,
      "outputs": [
        {
          "output_type": "stream",
          "name": "stdout",
          "text": [
            "I am thinking of a number between 0 and 99... Enter a guess: 50\n",
            "Your guess is too high\n",
            "****************************\n",
            "Enter a new number: 40\n",
            "Your guess is too high\n",
            "****************************\n",
            "Enter a new number: 20\n",
            "Your guess is too high\n",
            "****************************\n",
            "Enter a new number: 10\n",
            "Your guess is too high\n",
            "****************************\n",
            "Enter a new number: 5\n",
            "Your guess is too low\n",
            "****************************\n",
            "Enter a new number: 8\n",
            "Your guess is too high\n",
            "****************************\n",
            "Enter a new number: 7\n",
            "Congrats! The number was: 7\n"
          ]
        }
      ]
    },
    {
      "cell_type": "markdown",
      "source": [
        "##Problem Statement (Random Numbers)\n",
        "Print 10 random numbers in the range 1 to 100.\n",
        "\n",
        "Here is an example run:\n",
        "\n",
        "45 79 61 47 52 10 16 83 19 12\n",
        "\n",
        "Each time you run your program you should get different numbers\n",
        "\n",
        "81 76 70 1 27 63 96 100 32 92"
      ],
      "metadata": {
        "id": "bAN3IeHaBDDK"
      }
    },
    {
      "cell_type": "code",
      "source": [
        "import random\n",
        "\n",
        "def main():\n",
        "    for i in range(10):\n",
        "        print(random.randint(1, 100), end = \" \")\n",
        "\n",
        "main()"
      ],
      "metadata": {
        "colab": {
          "base_uri": "https://localhost:8080/"
        },
        "id": "YajzscM2BSlw",
        "outputId": "06908922-c611-4881-e6df-c5dc26eefab1"
      },
      "execution_count": null,
      "outputs": [
        {
          "output_type": "stream",
          "name": "stdout",
          "text": [
            "54 53 75 2 1 39 70 11 53 5 "
          ]
        }
      ]
    },
    {
      "cell_type": "markdown",
      "source": [
        "#02 Advance => Control Flow for Console\n",
        "##Problem Statement (High Low)\n",
        "We want you to gain more experience working with control flow and Booleans in Python. To do this, we are going to have you develop a game! The game is called High-Low and the way it's played goes as follows:\n",
        "\n",
        "Two numbers are generated from 1 to 100 (inclusive on both ends): one for you and one for a computer, who will be your opponent. You can see your number, but not the computer's!\n",
        "\n",
        "You make a guess, saying your number is either higher than or lower than the computer's number\n",
        "\n",
        "If your guess matches the truth (ex. you guess your number is higher, and then your number is actually higher than the computer's), you get a point!\n",
        "\n",
        "These steps make up one round of the game. The game is over after all rounds have been played.\n",
        "\n",
        "We've provided a sample run below.\n",
        "\n",
        "Welcome to the High-Low Game!\n",
        "--------------------------------\n",
        "\n",
        "Round 1\n",
        "\n",
        "Your number is 8\n",
        "\n",
        "Do you think your number is higher or lower than the computer's?: lower\n",
        "\n",
        "You were right! The computer's number was 35\n",
        "\n",
        "Your score is now 1"
      ],
      "metadata": {
        "id": "Idc2RjqYCeef"
      }
    },
    {
      "cell_type": "code",
      "source": [
        "import random\n",
        "\n",
        "def play_high_low():\n",
        "    user_score = 0\n",
        "    rounds = 3\n",
        "\n",
        "    for round_num in range(1, rounds + 1):\n",
        "        user_number = random.randint(1, 100)\n",
        "        computer_number = random.randint(1, 100)\n",
        "\n",
        "        print(f\"\\nRound {round_num}\")\n",
        "        print(f\"Your number is {user_number}\")\n",
        "\n",
        "        while True:\n",
        "            user_input = input(\"Do you think your number is higher or lower than the computer's? (higher/lower): \").lower()\n",
        "            if user_input in [\"higher\", \"lower\"]:\n",
        "                break\n",
        "            else:\n",
        "                print(\"Invalid input. Please enter 'higher' or 'lower'.\")\n",
        "        user_choice_higher = user_input == \"higher\" and user_number > computer_number\n",
        "        user_choice_lower = user_input == \"lower\" and user_number < computer_number\n",
        "        if user_choice_higher or user_choice_lower:\n",
        "            print(f\"You were right! The computer's number was {computer_number}\")\n",
        "            user_score += 1\n",
        "        else:\n",
        "            print(f\"You were wrong! The computer's number was {computer_number}\")\n",
        "\n",
        "        print(f\"Now your score is {user_score}\")\n",
        "\n",
        "    print(f\"\\nGame Over! Your final score is {user_score}\")\n",
        "\n",
        "\n",
        "while True:\n",
        "    play_high_low()\n",
        "    play_again = input(\"Do you want to play again? (yes/no): \").lower()\n",
        "    if play_again != \"yes\":\n",
        "        print(\"\\nThanks for playing!\")\n",
        "        break"
      ],
      "metadata": {
        "colab": {
          "base_uri": "https://localhost:8080/"
        },
        "id": "HsfjQxjLQuWs",
        "outputId": "dcecfd61-d9da-4335-e55f-8d4140599524"
      },
      "execution_count": null,
      "outputs": [
        {
          "output_type": "stream",
          "name": "stdout",
          "text": [
            "\n",
            "Round 1\n",
            "Your number is 5\n",
            "Do you think your number is higher or lower than the computer's? (higher/lower): lower\n",
            "You were right! The computer's number was 85\n",
            "Now your score is 1\n",
            "\n",
            "Round 2\n",
            "Your number is 53\n",
            "Do you think your number is higher or lower than the computer's? (higher/lower): lower\n",
            "You were wrong! The computer's number was 36\n",
            "Now your score is 1\n",
            "\n",
            "Round 3\n",
            "Your number is 71\n",
            "Do you think your number is higher or lower than the computer's? (higher/lower): higher\n",
            "You were right! The computer's number was 46\n",
            "Now your score is 2\n",
            "\n",
            "Game Over! Your final score is 2\n",
            "Do you want to play again? (yes/no): no\n",
            "\n",
            "Thanks for playing!\n"
          ]
        }
      ]
    },
    {
      "cell_type": "markdown",
      "source": [
        "##Problem Statement (Planetary Weight Calculator)\n",
        "##Mars Weight\n",
        "A few years ago, NASA made history with the first controlled flight on another planet. Its latest Mars Rover, Perseverance, has onboard a 50cm high helicopter called Ingenuity. Ingenuity made its third flight, during which it flew faster and further than it had on any of its test flights on Earth. Interestingly, Ingenuity uses Python for some of its flight modeling software!\n",
        "\n",
        "Ingenuity on the surface of Mars (source: NASA)\n",
        "\n",
        "When programming Ingenuity, one of the things that NASA engineers need to account for is the fact that due to the weaker gravity on Mars, an Earthling's weight on Mars is 37.8% of their weight on Earth. Write a Python program that prompts an Earthling to enter their weight on Earth and prints their calculated weight on Mars.\n",
        "\n",
        "The output should be rounded to two decimal places when necessary. Python has a round function which can help you with this. You pass in the value to be rounded and the number of decimal places to use. In the example below, the number 3.1415926 is rounded to 2 decimal places which is 3.14."
      ],
      "metadata": {
        "id": "LNKfspwrTkFa"
      }
    },
    {
      "cell_type": "code",
      "source": [
        "def calc_mars_weight(earth_weight):\n",
        "    mars_weight = earth_weight * 0.378\n",
        "    return round (mars_weight, 2)\n",
        "user_input = float(input(\"Enter your weight on Earth: \"))\n",
        "mars_weight = calc_mars_weight(user_input)\n",
        "print(f\"Your weight on Mars is: {mars_weight}\")"
      ],
      "metadata": {
        "colab": {
          "base_uri": "https://localhost:8080/"
        },
        "id": "s0bSp9TkUUET",
        "outputId": "9e5e0374-e72b-4d59-d0ea-6fe6445dd5e0"
      },
      "execution_count": null,
      "outputs": [
        {
          "output_type": "stream",
          "name": "stdout",
          "text": [
            "Enter your weight on Earth: 120\n",
            "Your weight on Mars is: 45.36\n"
          ]
        }
      ]
    },
    {
      "cell_type": "markdown",
      "source": [
        "##Problem Statement (Planetary Weight Calculator)\n",
        "##Adding in All Planets\n",
        "Mars is not the only planet in our solar system with its own unique gravity. In fact, each planet has a different gravitational constant, which affects how much an object would weigh on that planet. Below is a list of the constants for each planet compared to Earth's gravity:\n",
        "\n",
        "Mercury: 37.6%\n",
        "\n",
        "Venus: 88.9%\n",
        "\n",
        "Mars: 37.8%\n",
        "\n",
        "Jupiter: 236.0%\n",
        "\n",
        "Saturn: 108.1%\n",
        "\n",
        "Uranus: 81.5%\n",
        "\n",
        "Neptune: 114.0%\n",
        "\n",
        "Write a Python program that prompts an Earthling to enter their weight on Earth and then to enter the name of a planet in our solar system. The program should print the equivalent weight on that planet rounded to 2 decimal places if necessary.\n",
        "\n",
        "You can assume that the user will always type in a planet with the first letter capitalized and you do not need to worry about the case where they type in something other than one of the above planets."
      ],
      "metadata": {
        "id": "lCRTJWniYAun"
      }
    },
    {
      "cell_type": "code",
      "source": [
        "def calc_user_weight(user_weight, planet):\n",
        "    planets = {\n",
        "        \"Mercury\": 0.376,\n",
        "        \"Venus\": 0.889,\n",
        "        \"Mars\": 0.378,\n",
        "        \"Jupiter\": 2.36,\n",
        "        \"Saturn\": 1.081,\n",
        "        \"Uranus\": 0.815,\n",
        "        \"Neptune\": 1.14\n",
        "    }\n",
        "\n",
        "    if planet in planets:\n",
        "        planet_weight = user_weight * planets[planet]\n",
        "        return round(planet_weight, 2)\n",
        "    else:\n",
        "        return \"Invalid planet name.\"\n",
        "\n",
        "user_weight = float(input(\"Enter your weight on Earth: \"))\n",
        "planet_name = input(\"Enter the name of a planet: \").title()\n",
        "\n",
        "weight = calc_user_weight(user_weight, planet_name)\n",
        "\n",
        "print(f\"Your weight on {planet_name} is: {weight}\")"
      ],
      "metadata": {
        "colab": {
          "base_uri": "https://localhost:8080/"
        },
        "id": "jfWt5_BXYk7c",
        "outputId": "068176e0-309f-4547-d199-b868145dd13f"
      },
      "execution_count": null,
      "outputs": [
        {
          "output_type": "stream",
          "name": "stdout",
          "text": [
            "Enter your weight on Earth: 120\n",
            "Enter the name of a planet: jupiter\n",
            "Your weight on Jupiter is: 283.2\n"
          ]
        }
      ]
    },
    {
      "cell_type": "markdown",
      "source": [
        "##Problem Statement (List / Index)\n",
        "##List\n",
        "Now practice writing code with lists! Implement the functionality described in the comments below.\n",
        "\n",
        "def main(): # Create a list called fruit_list that contains the following fruits: # 'apple', 'banana', 'orange', 'grape', 'pineapple'.\n",
        "\n",
        "## Print the length of the list.\n",
        "\n",
        "## Add 'mango' at the end of the list.\n",
        "\n",
        "## Print the updated list."
      ],
      "metadata": {
        "id": "pe_toQ8ldd32"
      }
    },
    {
      "cell_type": "code",
      "source": [
        "def main():\n",
        "    fruit_list = ['apple', 'banana', 'orange', 'grape', 'pineapple']\n",
        "    print(len(fruit_list))\n",
        "    fruit_list.append('mango')\n",
        "    print(fruit_list)\n",
        "\n",
        "main()"
      ],
      "metadata": {
        "colab": {
          "base_uri": "https://localhost:8080/"
        },
        "id": "02bz288deAlE",
        "outputId": "021c7eae-c6d2-429c-89bb-076944112eb0"
      },
      "execution_count": null,
      "outputs": [
        {
          "output_type": "stream",
          "name": "stdout",
          "text": [
            "5\n",
            "['apple', 'banana', 'orange', 'grape', 'pineapple', 'mango']\n"
          ]
        }
      ]
    },
    {
      "cell_type": "markdown",
      "source": [
        "#Index\n",
        "As a warmup, read this code and play the game a few times. Use this mental model of the list:\n",
        "\n",
        "**Objective**: Create a Python program that helps you practice accessing and manipulating elements in a list. This exercise will help you get comfortable with indexing, slicing, and modifying list elements.\n",
        "\n",
        "Instructions:\n",
        "\n",
        "##Initialize a List:\n",
        "\n",
        "Create a list with at least 5 different elements. They can be numbers, strings, or a mix of both.\n",
        "\n",
        "\n",
        "##Accessing Elements:\n",
        "\n",
        "###Write a function that:\n",
        "\n",
        "*  Accepts a list and an index as inputs.\n",
        "\n",
        "*  Returns the element at the specified index.\n",
        "\n",
        "*  If the index is out of range, return an appropriate message.\n",
        "\n",
        "##Modifying Elements:\n",
        "\n",
        "\n",
        "Write a function that:\n",
        "\n",
        "*  Accepts a list, an index, and a new value as inputs.\n",
        "\n",
        "*  Replaces the element at the specified index with the new value.\n",
        "\n",
        "*  If the index is out of range, return an appropriate message.\n",
        "\n",
        "\n",
        "##Slicing the List:\n",
        "\n",
        "Write a function that:\n",
        "\n",
        "*  Accepts a list, a start index, and an end index as inputs.\n",
        "\n",
        "*  Returns a new list containing the elements from the start index up to (but not including) the end index.\n",
        "\n",
        "*  Handles cases where the indices are out of range.\n",
        "\n",
        "\n",
        "##Game Interaction:\n",
        "\n",
        "Create a simple text-based game that:\n",
        "\n",
        "*  Prompts the user to select an operation (access, modify, slice).\n",
        "\n",
        "*  Asks for the necessary inputs (index, new value, etc.).\n",
        "\n",
        "*  Displays the result and the updated list."
      ],
      "metadata": {
        "id": "V9CC-DjcebGE"
      }
    },
    {
      "cell_type": "code",
      "source": [
        "# Game Interaction\n",
        "my_list = [2001, \"fruits\", 11.11, \"vegetable\", 2020]\n",
        "def choice():\n",
        "  while True:\n",
        "    print(\"\\nLets Play a Game! Please select an operation:\")\n",
        "    print(\"=============================================\")\n",
        "    print(\"1. Indexing of an element\")\n",
        "    print(\"2. Modifying an element\")\n",
        "    print(\"3. Sliceing in the list\")\n",
        "    print(\"4. Exit\")\n",
        "\n",
        "    user_choice = input(\"Enter your choice (1/2/3/4): \")\n",
        "\n",
        "    if user_choice == \"1\":\n",
        "        index = int(input(\"Enter the index to access: \"))\n",
        "        print(get_index(my_list, index))\n",
        "\n",
        "    elif user_choice == \"2\":\n",
        "        index = int(input(\"Enter the index to modify: \"))\n",
        "        new_value = str(input(\"Enter the new value: \")).lower()\n",
        "        do_modify(index, new_value)\n",
        "\n",
        "    elif user_choice == \"3\":\n",
        "        start_index = int(input(\"Enter the start index: \"))\n",
        "        end_index = int(input(\"Enter the end index: \"))\n",
        "        do_slice(start_index, end_index)\n",
        "    elif user_choice == \"4\":\n",
        "      print(\"Game Over! Good Bye!\")\n",
        "      break\n",
        "\n",
        "    else:\n",
        "        print(\"Invalid choice. Please select a valid option.\")\n",
        "\n",
        "def get_index(user_input: str, index: int) -> None:\n",
        "    print(user_input[index])\n",
        "\n",
        "def do_modify(index: str, new_value: str):\n",
        "    my_list[index] = new_value\n",
        "\n",
        "def do_slice(start_index: str, end_index: str):\n",
        "    print(my_list[start_index: end_index])\n",
        "\n",
        "choice()"
      ],
      "metadata": {
        "colab": {
          "base_uri": "https://localhost:8080/"
        },
        "id": "FQPTIqmnjRg0",
        "outputId": "45b427f2-b90c-4416-f799-2577a883c6eb"
      },
      "execution_count": null,
      "outputs": [
        {
          "output_type": "stream",
          "name": "stdout",
          "text": [
            "Lets Play a Game! Please select an operation:\n",
            "=============================================\n",
            "1. Indexing of an element\n",
            "2. Modifying an element\n",
            "3. Sliceing in the list\n",
            "4. Exit\n",
            "Enter your choice (1/2/3): 1\n",
            "Enter the index to access: 2\n",
            "11.11\n",
            "None\n",
            "Lets Play a Game! Please select an operation:\n",
            "=============================================\n",
            "1. Indexing of an element\n",
            "2. Modifying an element\n",
            "3. Sliceing in the list\n",
            "4. Exit\n",
            "Enter your choice (1/2/3): 1\n",
            "Enter the index to access: 0\n",
            "2001\n",
            "None\n",
            "Lets Play a Game! Please select an operation:\n",
            "=============================================\n",
            "1. Indexing of an element\n",
            "2. Modifying an element\n",
            "3. Sliceing in the list\n",
            "4. Exit\n",
            "Enter your choice (1/2/3): 4\n",
            "Game Over! Good Bye!\n"
          ]
        }
      ]
    },
    {
      "cell_type": "code",
      "source": [
        "my_list = [2001, \"fruits\", 11.11, \"vegetable\", 2020]\n",
        "\n",
        "def choice():\n",
        "# Initializing a while loop for taking input from user.\n",
        "    while True:\n",
        "        print(\"\\nLet's Play a Game! Please select an option:\")\n",
        "        print(\"*********************************************\")\n",
        "        print(\"1. Indexing of an element\")\n",
        "        print(\"2. Modifying an element\")\n",
        "        print(\"3. Slicing in the list\")\n",
        "        print(\"4. Exit\")\n",
        "\n",
        "        user_choice = input(\"\\nEnter your choice (1/2/3/4): \")\n",
        "\n",
        "# Condition formating\n",
        "        if user_choice == \"1\":\n",
        "            index = int(input(\"Enter the index to access: \"))\n",
        "            print(get_index(my_list, index))\n",
        "        elif user_choice == \"2\":\n",
        "            index = int(input(\"Enter the index to modify: \"))\n",
        "            new_value = str(input(\"Enter the new value: \")).lower()\n",
        "            do_modify(index, new_value)\n",
        "        elif user_choice == \"3\":\n",
        "            start_index = int(input(\"Enter the start index: \"))\n",
        "            end_index = int(input(\"Enter the end index: \"))\n",
        "            do_slice(start_index, end_index)\n",
        "        elif user_choice == \"4\":\n",
        "            print(\"Exiting the game. Goodbye!\")\n",
        "            break\n",
        "        else:\n",
        "            print(\"Invalid choice. Please select a valid option.\")\n",
        "\n",
        "# All functions that are requried to be defined as per instructions\n",
        "def get_index(user_input: list, index: int) -> str:\n",
        "    try: #for handling error / in order to avoid run time error\n",
        "        print(\"\\n-----------------------------------------------\\n\")\n",
        "        return f\"The element at index {index} is: {user_input[index]}\".title()\n",
        "        print(\"\\n-----------------------------------------------\")\n",
        "    except IndexError:\n",
        "        return \"Index is out of range.\"\n",
        "\n",
        "def do_modify(index: int, new_value: str):\n",
        "    try:\n",
        "        my_list[index] = new_value\n",
        "        print(\"\\n-----------------------------------------------\\n\")\n",
        "        print(f\"Updated list: {my_list}\")\n",
        "        print(\"\\n-----------------------------------------------\")\n",
        "    except IndexError:\n",
        "        print(\"Index is out of range. Cannot modify the element.\")\n",
        "\n",
        "def do_slice(start_index: int, end_index: int):\n",
        "    try:\n",
        "        print(\"\\n-----------------------------------------------\\n\")\n",
        "        print(f\"The sliced list is: {my_list[start_index:end_index]}\")\n",
        "        print(\"\\n-----------------------------------------------\")\n",
        "    except IndexError:\n",
        "        print(\"Index is out of range. Cannot slice the list.\")\n",
        "\n",
        "# Start the game\n",
        "choice()\n"
      ],
      "metadata": {
        "colab": {
          "base_uri": "https://localhost:8080/"
        },
        "id": "RCHyFXGrRNBc",
        "outputId": "43018050-77d4-4595-c893-e8becf5cfbd9"
      },
      "execution_count": 8,
      "outputs": [
        {
          "output_type": "stream",
          "name": "stdout",
          "text": [
            "\n",
            "-------------------------------------------\n",
            "\n",
            "Let's Play a Game! Please select an option:\n",
            "*********************************************\n",
            "1. Indexing of an element\n",
            "2. Modifying an element\n",
            "3. Slicing in the list\n",
            "4. Exit\n",
            "\n",
            "Enter your choice (1/2/3/4): 1\n",
            "Enter the index to access: 0\n",
            "\n",
            "-----------------------------------------------\n",
            "\n",
            "The Element At Index 0 Is: 2001\n",
            "\n",
            "-------------------------------------------\n",
            "\n",
            "Let's Play a Game! Please select an option:\n",
            "*********************************************\n",
            "1. Indexing of an element\n",
            "2. Modifying an element\n",
            "3. Slicing in the list\n",
            "4. Exit\n",
            "\n",
            "Enter your choice (1/2/3/4): 1\n",
            "Enter the index to access: 3\n",
            "\n",
            "-----------------------------------------------\n",
            "\n",
            "The Element At Index 3 Is: Vegetable\n",
            "\n",
            "-------------------------------------------\n",
            "\n",
            "Let's Play a Game! Please select an option:\n",
            "*********************************************\n",
            "1. Indexing of an element\n",
            "2. Modifying an element\n",
            "3. Slicing in the list\n",
            "4. Exit\n",
            "\n",
            "Enter your choice (1/2/3/4): 2\n",
            "Enter the index to modify: 2\n",
            "Enter the new value: AAMIR\n",
            "\n",
            "-----------------------------------------------\n",
            "\n",
            "Updated list: [2001, 'fruits', 'aamir', 'vegetable', 2020]\n",
            "\n",
            "-----------------------------------------------\n",
            "\n",
            "-------------------------------------------\n",
            "\n",
            "Let's Play a Game! Please select an option:\n",
            "*********************************************\n",
            "1. Indexing of an element\n",
            "2. Modifying an element\n",
            "3. Slicing in the list\n",
            "4. Exit\n",
            "\n",
            "Enter your choice (1/2/3/4): 4\n",
            "Exiting the game. Goodbye!\n"
          ]
        }
      ]
    }
  ]
}