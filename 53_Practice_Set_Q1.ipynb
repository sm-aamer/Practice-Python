{
  "nbformat": 4,
  "nbformat_minor": 0,
  "metadata": {
    "colab": {
      "provenance": [],
      "authorship_tag": "ABX9TyPEPoLY/io7dvCKOQkF7gNl",
      "include_colab_link": true
    },
    "kernelspec": {
      "name": "python3",
      "display_name": "Python 3"
    },
    "language_info": {
      "name": "python"
    }
  },
  "cells": [
    {
      "cell_type": "markdown",
      "metadata": {
        "id": "view-in-github",
        "colab_type": "text"
      },
      "source": [
        "<a href=\"https://colab.research.google.com/github/sm-aamer/Practice-Python/blob/main/53_Practice_Set_Q1.ipynb\" target=\"_parent\"><img src=\"https://colab.research.google.com/assets/colab-badge.svg\" alt=\"Open In Colab\"/></a>"
      ]
    },
    {
      "cell_type": "markdown",
      "source": [
        "##Add Two Numbers:\n",
        "Write a Python program that takes two integer inputs from the user and calculates their sum. The program should perform the following tasks:\n",
        "\n",
        "Prompt the user to enter the first number.\n",
        "\n",
        "Read the input and convert it to an integer.\n",
        "\n",
        "Prompt the user to enter the second number.\n",
        "\n",
        "Read the input and convert it to an integer.\n",
        "\n",
        "Calculate the sum of the two numbers.\n",
        "\n",
        "Print the total sum with an appropriate message.\n",
        "\n",
        "The provided solution demonstrates a working implementation of this problem, where the main() function guides the user through the process of entering two numbers and displays their sum"
      ],
      "metadata": {
        "id": "evVxEz95xCcd"
      }
    },
    {
      "cell_type": "code",
      "execution_count": null,
      "metadata": {
        "colab": {
          "base_uri": "https://localhost:8080/"
        },
        "id": "LAHhmxohw9Eu",
        "outputId": "0bb2d49f-a12d-4bed-94a8-8f30677c9d18"
      },
      "outputs": [
        {
          "output_type": "stream",
          "name": "stdout",
          "text": [
            "This program adds two numbers.\n",
            "Enter first number: 14\n",
            "Enter second number: 16\n",
            "The total is 30.\n"
          ]
        }
      ],
      "source": [
        "def main():\n",
        "  print(\"This program adds two numbers.\")\n",
        "  num1 : str = input(\"Enter first number: \")\n",
        "  num1 : int = int(num1)\n",
        "  num2  : str = input(\"Enter second number: \")\n",
        "  num2 : int = int(num2)\n",
        "  total : int = num1 + num2\n",
        "  print(\"The total is \" + str(total) + \".\")\n",
        "main()"
      ]
    },
    {
      "cell_type": "code",
      "source": [
        "def main():\n",
        "    print(\"This program adds two numbers.\")\n",
        "    print(\"*******************************\")\n",
        "    num1 : str = input(\"Enter first number: \")\n",
        "    num1 : int = int(num1)\n",
        "    num2  : str = input(\"Enter second number: \")\n",
        "    num2 : int = int(num2)\n",
        "    total : int = num1 + num2\n",
        "    print(\"The total is \" + str(total) + \".\")\n",
        "\n",
        "\n",
        "# This provided line is required at the end of\n",
        "# Python file to call the main() function.\n",
        "if __name__ == '__main__':\n",
        "      main()"
      ],
      "metadata": {
        "colab": {
          "base_uri": "https://localhost:8080/"
        },
        "id": "SQBpDw5vxyk6",
        "outputId": "9b87cd6a-52c3-4e84-93ed-075b58a08cad"
      },
      "execution_count": null,
      "outputs": [
        {
          "output_type": "stream",
          "name": "stdout",
          "text": [
            "This program adds two numbers.\n",
            "*******************************\n",
            "Enter first number: 48\n",
            "Enter second number: 52\n",
            "The total is 100.\n"
          ]
        }
      ]
    },
    {
      "cell_type": "markdown",
      "source": [
        "##**Agreement Bot**\n",
        "Write a program which asks the user what their favorite animal is, and then always responds with \"My favorite animal is also ___!\" (the blank should be filled in with the user-inputted animal, of course).\n",
        "\n",
        "Here's a sample run of the program (user input is in bold italics - note the space between the prompt and the user input!):\n",
        "\n",
        "What's your favorite animal? cow\n",
        "\n",
        "My favorite animal is also cow!"
      ],
      "metadata": {
        "id": "3voUG7RdAa6g"
      }
    },
    {
      "cell_type": "code",
      "source": [
        "def main():\n",
        "  favourate_animal : str = input(\"What is Your Favourate Animal? \")\n",
        "  print(f\"My Favourite Animal is also {favourate_animal}!\")\n",
        "if __name__ == '__main__':\n",
        "  main()"
      ],
      "metadata": {
        "colab": {
          "base_uri": "https://localhost:8080/"
        },
        "id": "y5Hv-GfsAnO3",
        "outputId": "976d9bed-0091-49a5-9760-4227c958fc85"
      },
      "execution_count": null,
      "outputs": [
        {
          "output_type": "stream",
          "name": "stdout",
          "text": [
            "What is Your Favourate Animal? Horse\n",
            "My Favourite Animal is also Horse!\n"
          ]
        }
      ]
    },
    {
      "cell_type": "code",
      "source": [
        "main()"
      ],
      "metadata": {
        "colab": {
          "base_uri": "https://localhost:8080/"
        },
        "id": "n8nR7w3pBWQP",
        "outputId": "77085fb3-ac07-4bde-e9b3-2105ca485cdc"
      },
      "execution_count": null,
      "outputs": [
        {
          "output_type": "stream",
          "name": "stdout",
          "text": [
            "What is Your Favourate Animal? Fish\n",
            "My Favourite Animal is also Fish!\n"
          ]
        }
      ]
    },
    {
      "cell_type": "markdown",
      "source": [
        "##Fahrenheit to Celsius:\n",
        "\n",
        "Write a program which prompts the user for a temperature in Fahrenheit (this can be a number with decimal places!) and outputs the temperature converted to Celsius.\n",
        "\n",
        "The Celsius scale is widely used to measure temperature, but places still use Fahrenheit. Fahrenheit is another unit for temperature, but the scale is different from Celsius -- for example, 0 degrees Celsius is 32 degrees Fahrenheit!\n",
        "\n",
        "The equation you should use for converting from Fahrenheit to Celsius is the following:\n",
        "\n",
        "degrees_celsius = (degrees_fahrenheit - 32) * 5.0/9.0\n",
        "\n",
        "(Note. The .0 after the 5 and 9 matters in the line above!!!)\n",
        "\n",
        "Here's a sample run of the program (user input is in bold italics):\n",
        "\n",
        "Enter temperature in Fahrenheit: 76\n",
        "\n",
        "Temperature: 76.0F = 24.444444444444443C"
      ],
      "metadata": {
        "id": "weDs7hmC-KLF"
      }
    },
    {
      "cell_type": "code",
      "source": [
        "def main():\n",
        "\n",
        "  user_input: int = input(\"Enter temperature in Fahrenheit: \")\n",
        "  user_input: float = float(user_input)\n",
        "  degrees_celsius: float = (user_input - 32) * 5.0/9.0\n",
        "  print(f\"Temperature: {user_input}°F and {degrees_celsius: .2f}°C\")\n",
        "main()"
      ],
      "metadata": {
        "colab": {
          "base_uri": "https://localhost:8080/"
        },
        "id": "n_qzjD6u-YMb",
        "outputId": "f60ba720-2a68-4481-9672-e4dbc04fdc34"
      },
      "execution_count": null,
      "outputs": [
        {
          "output_type": "stream",
          "name": "stdout",
          "text": [
            "Enter temperature in Fahrenheit: 76\n",
            "Temperature: 76.0°F and  24.44°C\n"
          ]
        }
      ]
    },
    {
      "cell_type": "markdown",
      "source": [
        "## How Old Are They?\n",
        "Write a program to solve this age-related riddle!\n",
        "\n",
        "Anton, Beth, Chen, Drew, and Ethan are all friends. Their ages are as follows:\n",
        "\n",
        "Anton is 21 years old.\n",
        "\n",
        "Beth is 6 years older than Anton.\n",
        "\n",
        "Chen is 20 years older than Beth.\n",
        "\n",
        "Drew is as old as Chen's age plus Anton's age.\n",
        "\n",
        "Ethan is the same age as Chen.\n",
        "\n",
        "Your code should store each person's age to a variable and print their names and ages at the end. The autograder is sensitive to capitalization and punctuation, be careful! Your solution should look like this (the below numbers are made up -- your solution should have the correct values!):\n",
        "\n",
        "Anton is 3\n",
        "\n",
        "Beth is 4\n",
        "\n",
        "Chen is 5\n",
        "\n",
        "Drew is 6\n",
        "\n",
        "Ethan is 7"
      ],
      "metadata": {
        "id": "YlAfXviGCSFx"
      }
    },
    {
      "cell_type": "code",
      "source": [
        "anton: int = 21\n",
        "beth: int = 6 + anton\n",
        "chen: int = 20 + beth\n",
        "drew: int = chen + anton\n",
        "ethan: int = chen\n",
        "\n",
        "# print(f\"Anton is {anton}\")\n",
        "# print(f\"Beth is {beth}\")\n",
        "# print(f\"Chen is {chen}\")\n",
        "# print(f\"Drew is {drew}\")\n",
        "# print(f\"Ethan is {ethan}\")\n",
        "\n",
        "def main():\n",
        "  print(\"Anton is \" + str(anton))\n",
        "  print(\"Beth is \" + str(beth))\n",
        "  print(\"Chen is \" + str(chen))\n",
        "  print(\"Drew is \" + str(drew))\n",
        "  print(\"Ethan is \" + str(ethan))\n",
        "main()"
      ],
      "metadata": {
        "colab": {
          "base_uri": "https://localhost:8080/"
        },
        "id": "IPiB7N2eCZKn",
        "outputId": "53fa1a4a-7d35-4762-da41-3875d9ea1a76"
      },
      "execution_count": null,
      "outputs": [
        {
          "output_type": "stream",
          "name": "stdout",
          "text": [
            "Anton is 21\n",
            "Beth is 27\n",
            "Chen is 47\n",
            "Drew is 68\n",
            "Ethan is 47\n"
          ]
        }
      ]
    },
    {
      "cell_type": "markdown",
      "source": [
        "##Triangle Perimeter:\n",
        "Prompt the user to enter the lengths of each side of a triangle and then calculate and print the perimeter of the triangle (the sum of all of the side lengths).\n",
        "\n",
        "Here's a sample run of the program (user input is in bold italics):\n",
        "\n",
        "What is the length of side 1? 3\n",
        "\n",
        "What is the length of side 2? 4\n",
        "\n",
        "What is the length of side 3? 5.5\n",
        "\n",
        "The perimeter of the triangle is 12.5"
      ],
      "metadata": {
        "id": "jprr3tH5GH_r"
      }
    },
    {
      "cell_type": "code",
      "source": [
        "def main():\n",
        "  user_input1: int = input(\"What is the Lenght of side 1? \")\n",
        "  user_input1: float = float(user_input1)\n",
        "  user_input2: int = input(\"What is the Lenght of side 2? \")\n",
        "  user_input2: float = float(user_input2)\n",
        "  user_input3: int = input(\"What is the Lenght of side 3? \")\n",
        "  user_input3: float = float(user_input3)\n",
        "  perimeter: float = user_input1 + user_input2 + user_input3\n",
        "  # print(f\"The perimeter of the triangle is {perimeter}\")\n",
        "  print(\"The perimeter of the triangle is \" + str(user_input1 + user_input2 + user_input3))\n",
        "main()"
      ],
      "metadata": {
        "colab": {
          "base_uri": "https://localhost:8080/"
        },
        "id": "l0v9LZgiGaeY",
        "outputId": "19f6a977-fe7e-459f-b90d-aba33e5553cc"
      },
      "execution_count": null,
      "outputs": [
        {
          "output_type": "stream",
          "name": "stdout",
          "text": [
            "What is the Lenght of side 1? 3\n",
            "What is the Lenght of side 2? 4\n",
            "What is the Lenght of side 3? 5.5\n",
            "The perimeter of the triangle is 12.5\n"
          ]
        }
      ]
    },
    {
      "cell_type": "markdown",
      "source": [
        "##Square Number:\n",
        "\n",
        "Ask the user for a number and print its square (the product of the number times itself).\n",
        "\n",
        "Here's a sample run of the program (user input is in bold italics):\n",
        "\n",
        "Type a number to see its square: 4\n",
        "\n",
        "4.0 squared is 16.0"
      ],
      "metadata": {
        "id": "yv5Rh2ilIVmg"
      }
    },
    {
      "cell_type": "code",
      "source": [
        "def main():\n",
        "  user_input: int = input(\"Type a number to see its square: \")\n",
        "  user_input: float = float(user_input)\n",
        "  # print(f\"{user_input} squared is {user_input * user_input}\")\n",
        "  print(str(user_input) + \" squared is \" + str(user_input ** 2))\n",
        "main ()"
      ],
      "metadata": {
        "colab": {
          "base_uri": "https://localhost:8080/"
        },
        "id": "y_RAldebIbXP",
        "outputId": "dab24949-5bfe-45dc-8abf-19866736bd62"
      },
      "execution_count": null,
      "outputs": [
        {
          "output_type": "stream",
          "name": "stdout",
          "text": [
            "Type a number to see its square: 4\n",
            "4.0 squared is 16.0\n"
          ]
        }
      ]
    },
    {
      "cell_type": "markdown",
      "source": [
        "#01_Expressions\n",
        "##01_Dicesimulator\n",
        "Simulate rolling two dice, three times. Prints the results of each die roll. This program is used to show how variable scope works"
      ],
      "metadata": {
        "id": "iEGJRRmfJ3sp"
      }
    },
    {
      "cell_type": "code",
      "source": [
        "# prompt: Simulate rolling two dice, three times. Prints the results of each die roll. This program is used to show how variable scope works\n",
        "\n",
        "import random\n",
        "\n",
        "def roll_dice():\n",
        "  \"\"\"Simulates rolling two dice and returns the results.\"\"\"\n",
        "  die1 = random.randint(1, 6)\n",
        "  die2 = random.randint(1, 6)\n",
        "  return die1, die2\n",
        "\n",
        "def main():\n",
        "  \"\"\"Rolls the dice three times and prints the results.\"\"\"\n",
        "  for i in range(3):\n",
        "    die1, die2 = roll_dice()\n",
        "    print(f\"Roll {i+1}: Die 1 = {die1}, Die 2 = {die2}\")\n",
        "\n",
        "if __name__ == \"__main__\":\n",
        "  main()"
      ],
      "metadata": {
        "colab": {
          "base_uri": "https://localhost:8080/"
        },
        "id": "BcLkGjCnKK4a",
        "outputId": "f5dc67a4-7394-465a-c214-ed497ec8fe32"
      },
      "execution_count": null,
      "outputs": [
        {
          "output_type": "stream",
          "name": "stdout",
          "text": [
            "Roll 1: Die 1 = 2, Die 2 = 2\n",
            "Roll 2: Die 1 = 6, Die 2 = 2\n",
            "Roll 3: Die 1 = 5, Die 2 = 4\n"
          ]
        }
      ]
    },
    {
      "cell_type": "code",
      "source": [
        "import random\n",
        "# Simulate rolling two dice, three times.\n",
        "def main():\n",
        "  die1 = random.randint(1, 6)\n",
        "  die2  = random.randint(1, 6)\n",
        "  return die1, die2\n",
        "\n",
        "def main1():\n",
        "  for i in range(3):\n",
        "    die1, die2 = main()\n",
        "# Prints the results of each die roll.\n",
        "    print(f\"Result of Rolling {i+1}: Die 1= {die1}: Die 2= {die2}\")\n",
        "main1()"
      ],
      "metadata": {
        "colab": {
          "base_uri": "https://localhost:8080/"
        },
        "id": "qtYRv2ppvxke",
        "outputId": "0f6f3eb7-1b93-47b1-bb9c-a68ea8112264"
      },
      "execution_count": null,
      "outputs": [
        {
          "output_type": "stream",
          "name": "stdout",
          "text": [
            "Result of Rolling 1: Die 1= 6: Die 2= 5\n",
            "Result of Rolling 2: Die 1= 2: Die 2= 4\n",
            "Result of Rolling 3: Die 1= 6: Die 2= 5\n"
          ]
        }
      ]
    },
    {
      "cell_type": "markdown",
      "source": [
        "##e=mc2:\n",
        "Write a program that continually reads in mass from the user and then outputs the equivalent energy using Einstein's mass-energy equivalence formula (E stands for energy, m stands for mass, and C is the speed of light:\n",
        "\n",
        "E = m * c**2\n",
        "\n",
        "Almost 100 years ago, Albert Einstein famously discovered that mass and energy are interchangeable and are related by the above equation. You should ask the user for mass (m) in kilograms and use a constant value for the speed of light -- C = 299792458 m/s.\n",
        "\n",
        "Here's a sample run of the program (user input is in bold italics):\n",
        "\n",
        "Enter kilos of mass: 100\n",
        "\n",
        "e = m * C^2...\n",
        "\n",
        "m = 100.0 kg\n",
        "\n",
        "C = 299792458 m/s\n",
        "\n",
        "8.987551787368176e+18 joules of energy!"
      ],
      "metadata": {
        "id": "0ykPxbURzlT3"
      }
    },
    {
      "cell_type": "code",
      "source": [
        "def main():\n",
        "  m: int = input(\"Enter kilos of mass: \")\n",
        "  m: float = float(user_input)\n",
        "  c: float = 299792458\n",
        "  e: float = m * c**2\n",
        "  print(f\"{e} joules of energy!\")\n",
        "main()"
      ],
      "metadata": {
        "colab": {
          "base_uri": "https://localhost:8080/"
        },
        "id": "rp2GDmBO0hyw",
        "outputId": "a46526c3-0e61-4456-e957-8f0a6c3ee21c"
      },
      "execution_count": null,
      "outputs": [
        {
          "output_type": "stream",
          "name": "stdout",
          "text": [
            "Enter kilos of mass: 100\n",
            "8.987551787368176e+18 joules of energy!\n"
          ]
        }
      ]
    },
    {
      "cell_type": "markdown",
      "source": [
        "##Feet to Inches:\n",
        "Converts feet to inches. Feet is an American unit of measurement. There are 12 inches per foot. Foot is the singular, and feet is the plural."
      ],
      "metadata": {
        "id": "MbdzhikZsdpp"
      }
    },
    {
      "cell_type": "code",
      "source": [
        "inchesInFoot: int = 12\n",
        "def main():\n",
        "  user_input: int = input(\"Enter number of feet: \")\n",
        "  user_input: float = float(user_input)\n",
        "  print(f\"{user_input} feet is equal to {user_input * inchesInFoot} inches.\")\n",
        "main()"
      ],
      "metadata": {
        "colab": {
          "base_uri": "https://localhost:8080/"
        },
        "id": "Ga4zN2M3siE6",
        "outputId": "6689bf1c-d455-45f6-c46d-b0b2d572d627"
      },
      "execution_count": null,
      "outputs": [
        {
          "output_type": "stream",
          "name": "stdout",
          "text": [
            "Enter number of feet: 5\n",
            "5.0 feet is equal to 60.0 inches.\n"
          ]
        }
      ]
    },
    {
      "cell_type": "markdown",
      "source": [
        "##Pythagorean Theorem:\n",
        "Write a program that asks the user for the lengths of the two perpendicular sides of a right triangle and outputs the length of the third side (the hypotenuse) using the Pythagorean theorem!\n",
        "\n",
        "The Pythagorean theorem, named after the ancient Greek thinker, Pythagoras, is a fundamental relation in geometry. It states that in a right triangle, the square of the hypotenuse is equal to the sum of the square of the other two sides.\n",
        "\n",
        "For instance, let's consider a right triangle ABC, with the right angle located at C. According to the Pythagorean theorem:\n",
        "\n",
        "BC ** 2 = AB ** 2 + AC ** 2\n",
        "\n",
        "Your code should read in the lengths of the sides AB and AC, and that outputs the length of the hypotenuse (BC). You will probably find math.sqrt() to be useful.\n",
        "\n",
        "Here's a sample run of the program (user input is in bold italics):\n",
        "\n",
        "Enter the length of AB: 3\n",
        "\n",
        "Enter the length of AC: 4\n",
        "\n",
        "The length of BC (the hypotenuse) is: 5.0"
      ],
      "metadata": {
        "id": "H2S6pfLFuu8T"
      }
    },
    {
      "cell_type": "code",
      "source": [
        "import math\n",
        "def main():\n",
        "  ab: int = input(\"Enter the length of AB: \")\n",
        "  ab: float = float(ab)\n",
        "  ac: int = input(\"Enter the length of AC: \")\n",
        "  ac: float = float(ac)\n",
        "  bc: float = math.sqrt(ab**2 + ac**2)\n",
        "  print(f\"The Lenght of BC (the hypotenuse) is {bc}\")\n",
        "main()"
      ],
      "metadata": {
        "colab": {
          "base_uri": "https://localhost:8080/"
        },
        "id": "ouUVrrdkvEyg",
        "outputId": "597e7625-13a8-4143-dc6c-2e756a009bc6"
      },
      "execution_count": null,
      "outputs": [
        {
          "output_type": "stream",
          "name": "stdout",
          "text": [
            "Enter the length of AB: 3\n",
            "Enter the length of AC: 4\n",
            "The Lenght of BC (the hypotenuse) is 5.0\n"
          ]
        }
      ]
    },
    {
      "cell_type": "markdown",
      "source": [
        "##Remainder Division\n",
        "Ask the user for two numbers, one at a time, and then print the result of dividing the first number by the second and also the remainder of the division.\n",
        "\n",
        "Here's a sample run of the program (user input is in bold italics):\n",
        "\n",
        "Please enter an integer to be divided: 5\n",
        "\n",
        "Please enter an integer to divide by: 3\n",
        "\n",
        "The result of this division is 1 with a remainder of 2"
      ],
      "metadata": {
        "id": "UySoMnP4zCha"
      }
    },
    {
      "cell_type": "code",
      "source": [
        "def main():\n",
        "  first_number = int(input(\"Please enter an integer to be divided: \"))\n",
        "  second_number = int(input(\"Please enter an integer to divide by: \"))\n",
        "\n",
        "  result: int = first_number // second_number\n",
        "  remainder: int = first_number % second_number\n",
        "\n",
        "  print(str(f\"The result of this division is {result} with a remainder of {remainder}\"))\n",
        "main()"
      ],
      "metadata": {
        "colab": {
          "base_uri": "https://localhost:8080/"
        },
        "id": "8KUHuzPZx9yE",
        "outputId": "52fa17cc-0356-45c1-fc74-eef8880a7d42"
      },
      "execution_count": null,
      "outputs": [
        {
          "output_type": "stream",
          "name": "stdout",
          "text": [
            "Please enter an integer to be divided: 5\n",
            "Please enter an integer to divide by: 3\n",
            "The result of this division is 1 with a remainder of 2\n"
          ]
        }
      ]
    },
    {
      "cell_type": "markdown",
      "source": [
        "## Roll Dice\n",
        "Simulate rolling two dice, and prints results of each roll as well as the total.\n"
      ],
      "metadata": {
        "id": "Wn-etVb25le5"
      }
    },
    {
      "cell_type": "code",
      "source": [
        "import random\n",
        "def main():\n",
        "  dice1 = random.randint(1, 6)\n",
        "  dice2 = random.randint(1, 6)\n",
        "  print(f\"Dice 1 has {dice1} value\")\n",
        "  print(f\"Dice 2 has {dice2} value\")\n",
        "  print(f\"Total is {dice1 + dice2}\")\n",
        "main()"
      ],
      "metadata": {
        "colab": {
          "base_uri": "https://localhost:8080/"
        },
        "id": "CPxLPVMu4DrV",
        "outputId": "ba7700dc-2e74-490c-8da4-98a2b91e29d0"
      },
      "execution_count": null,
      "outputs": [
        {
          "output_type": "stream",
          "name": "stdout",
          "text": [
            "Dice 1 has 3 value\n",
            "Dice 2 has 6 value\n",
            "Total is 9\n"
          ]
        }
      ]
    },
    {
      "cell_type": "markdown",
      "source": [
        "##Seconds in Year\n",
        "Use Python to calculate the number of seconds in a year, and tell the user what the result is in a nice print statement that looks like this (of course the value 5 should be the calculated number instead):\n",
        "\n",
        "There are 5 seconds in a year!\n",
        "\n",
        "You should use constants for this exercise -- there are 365 days in a year, 24 hours in a day, 60 minutes in an hour, and 60 seconds per minute."
      ],
      "metadata": {
        "id": "HTzd6zDC8p-h"
      }
    },
    {
      "cell_type": "code",
      "source": [
        "days: int = 365\n",
        "hours: int = 24\n",
        "minutes: int = 60\n",
        "seconds: int = 60\n",
        "second_in_year: int = 365 * 24 * 60 * 60\n",
        "\n",
        "def main():\n",
        "\n",
        "  print(f\"There are {second_in_year} seconds in a year!\")\n",
        "\n",
        "main()"
      ],
      "metadata": {
        "colab": {
          "base_uri": "https://localhost:8080/"
        },
        "id": "1xrAVedy8uCB",
        "outputId": "ff381c31-1a6e-48ab-a30b-da0d6e58feda"
      },
      "execution_count": null,
      "outputs": [
        {
          "output_type": "stream",
          "name": "stdout",
          "text": [
            "There are 31536000 seconds in a year!\n"
          ]
        }
      ]
    },
    {
      "cell_type": "markdown",
      "source": [
        "##Tiny Mad Lib\n",
        "Write a program which prompts the user for an adjective, then a noun, then a verb, and then prints a fun sentence with those words!\n",
        "\n",
        "Mad Libs is a word game where players are prompted for one word at a time, and the words are eventually filled into the blanks of a word template to make an entertaining story! We've provided you with the beginning of a sentence (the SENTENCE_START constant) which will end in a user-inputted adjective, noun, and then verb.\n",
        "\n",
        "Here's a sample run (user input is in bold italics):\n",
        "\n",
        "Please type an adjective and press enter. tiny\n",
        "\n",
        "Please type a noun and press enter. plant\n",
        "\n",
        "Please type a verb and press enter. fly\n",
        "\n",
        "Code in Place is fun. I learned to program and used Python to make my tiny plant fly!"
      ],
      "metadata": {
        "id": "59uDhk7h_Hos"
      }
    },
    {
      "cell_type": "code",
      "source": [
        "sentence_start: str = \"Code in Place is fun. I learned to program and used Python to make my\"\n",
        "\n",
        "def main():\n",
        "  adjective: str = input(\"Please type an adjective and press enter. \")\n",
        "  noun: str = input(\"Please type a noun and press enter. \")\n",
        "  verb: str = input(\"Please type a verb and press enter. \")\n",
        "  print(sentence_start, adjective, noun, verb + \"!\")\n",
        "main()"
      ],
      "metadata": {
        "colab": {
          "base_uri": "https://localhost:8080/"
        },
        "id": "6VPe6zXt_rBk",
        "outputId": "78d6bb51-4f82-4fb8-ba22-93b71f335146"
      },
      "execution_count": null,
      "outputs": [
        {
          "output_type": "stream",
          "name": "stdout",
          "text": [
            "Please type an adjective and press enter. tiny\n",
            "Please type a noun and press enter. plant\n",
            "Please type a verb and press enter. fly\n",
            "Code in Place is fun. I learned to program and used Python to make my tiny plant fly!\n"
          ]
        }
      ]
    },
    {
      "cell_type": "markdown",
      "source": [
        "# 02_Lists:\n",
        "## Add Many Numbers:\n",
        "Write a function that takes a list of numbers and returns the sum of those numbers.\n"
      ],
      "metadata": {
        "id": "XxOgpmEeLynG"
      }
    },
    {
      "cell_type": "code",
      "source": [
        "import random\n",
        "\n",
        "def main():\n",
        "  # This function will Generate a list of 10 random numbers between 1 to 100\n",
        "    random_numbers = []\n",
        "    for i in range(10):\n",
        "        random_numbers.append(random.randint(1, 100))\n",
        "    print(\"List of Random Numbers:\", random_numbers)\n",
        "\n",
        "# Calculate the sum of the random numbers\n",
        "    sum_of_numbers = sum(random_numbers)\n",
        "    print(\"Sum of Numbers:\", sum_of_numbers)\n",
        "\n",
        "main()"
      ],
      "metadata": {
        "colab": {
          "base_uri": "https://localhost:8080/"
        },
        "id": "e9hx-KjuMLlG",
        "outputId": "b7812ce8-0052-484b-ae9c-da950766da75"
      },
      "execution_count": null,
      "outputs": [
        {
          "output_type": "stream",
          "name": "stdout",
          "text": [
            "List of Random Numbers: [89, 53, 35, 48, 41, 9, 93, 48, 89, 73]\n",
            "Sum of Numbers: 578\n"
          ]
        }
      ]
    },
    {
      "cell_type": "markdown",
      "source": [
        "##Double List\n",
        "Write a program that doubles each element in a list of numbers. For example, if you start with this list:\n",
        "\n",
        "numbers = [1, 2, 3, 4]\n",
        "\n",
        "You should end with this list:\n",
        "\n",
        "numbers = [2, 4, 6, 8]"
      ],
      "metadata": {
        "id": "7iZofhAXyivk"
      }
    },
    {
      "cell_type": "code",
      "source": [
        "def main():\n",
        "  number: int = [1, 2, 3, 4]\n",
        "  print(number)\n",
        "  for i in range(len(number)):\n",
        "    number[i] = number[i] * 2\n",
        "  print(number)\n",
        "main()"
      ],
      "metadata": {
        "id": "J7_UCEu6yomk",
        "colab": {
          "base_uri": "https://localhost:8080/"
        },
        "outputId": "c6ce0646-e1cc-438c-c9d1-b9aa74c6cdb8"
      },
      "execution_count": null,
      "outputs": [
        {
          "output_type": "stream",
          "name": "stdout",
          "text": [
            "[1, 2, 3, 4]\n",
            "[2, 4, 6, 8]\n"
          ]
        }
      ]
    },
    {
      "cell_type": "markdown",
      "source": [
        "##Erase Canvas\n",
        "Implement an 'eraser' on a canvas.\n",
        "\n",
        "The canvas consists of a grid of blue 'cells' which are drawn as rectangles on the screen. We then create an eraser rectangle which, when dragged around the canvas, sets all of the rectangles it is in contact with to white."
      ],
      "metadata": {
        "id": "TNqRb9oZXLO_"
      }
    },
    {
      "cell_type": "code",
      "source": [
        "import tkinter as tk"
      ],
      "metadata": {
        "id": "aApnvz-LZVru"
      },
      "execution_count": null,
      "outputs": []
    },
    {
      "cell_type": "code",
      "source": [
        "# Set the grid size and cell properties\n",
        "GRID_ROWS = 10\n",
        "GRID_COLS = 10\n",
        "CELL_SIZE = 40\n",
        "ERASER_SIZE = 50\n",
        "\n",
        "class EraserApp:\n",
        "    def __init__(self, root):\n",
        "        self.root = root\n",
        "        self.root.title(\"Eraser on Canvas\")\n",
        "\n",
        "        # Create a canvas\n",
        "        self.canvas = tk.Canvas(root, width=GRID_COLS * CELL_SIZE, height=GRID_ROWS * CELL_SIZE, bg=\"white\")\n",
        "        self.canvas.pack()\n",
        "\n",
        "        # Draw the grid of blue cells\n",
        "        self.cells = []\n",
        "        for i in range(GRID_ROWS):\n",
        "            row = []\n",
        "            for j in range(GRID_COLS):\n",
        "                x1, y1 = j * CELL_SIZE, i * CELL_SIZE\n",
        "                x2, y2 = x1 + CELL_SIZE, y1 + CELL_SIZE\n",
        "                cell = self.canvas.create_rectangle(x1, y1, x2, y2, fill=\"blue\", outline=\"black\")\n",
        "                row.append(cell)\n",
        "            self.cells.append(row)\n",
        "\n",
        "        # Create the eraser rectangle\n",
        "        self.eraser = self.canvas.create_rectangle(0, 0, ERASER_SIZE, ERASER_SIZE, outline=\"red\", width=2)\n",
        "\n",
        "        # Bind mouse events for dragging the eraser\n",
        "        self.canvas.bind(\"<B1-Motion>\", self.erase)\n",
        "\n",
        "    def erase(self, event):\n",
        "        # Update eraser position to follow the mouse\n",
        "        x1, y1 = event.x - ERASER_SIZE / 2, event.y - ERASER_SIZE / 2\n",
        "        x2, y2 = event.x + ERASER_SIZE / 2, event.y + ERASER_SIZE / 2\n",
        "        self.canvas.coords(self.eraser, x1, y1, x2, y2)\n",
        "\n",
        "        # Check if the eraser overlaps with any cells and change their color to white\n",
        "        overlapping_items = self.canvas.find_overlapping(x1, y1, x2, y2)\n",
        "        for item in overlapping_items:\n",
        "            if item != self.eraser:\n",
        "                self.canvas.itemconfig(item, fill=\"white\")\n"
      ],
      "metadata": {
        "id": "jiFB7J8LXPVg"
      },
      "execution_count": null,
      "outputs": []
    },
    {
      "cell_type": "code",
      "source": [
        "# Run the application\n",
        "if __name__ == \"__main__\":\n",
        "    root = tk.Tk()\n",
        "    app = EraserApp(root)\n",
        "    root.mainloop()"
      ],
      "metadata": {
        "colab": {
          "base_uri": "https://localhost:8080/",
          "height": 348
        },
        "id": "YWXpaOd5ZdR9",
        "outputId": "e75dde83-851f-4a7b-f5f9-c56e92a86520"
      },
      "execution_count": null,
      "outputs": [
        {
          "output_type": "error",
          "ename": "TclError",
          "evalue": "no display name and no $DISPLAY environment variable",
          "traceback": [
            "\u001b[0;31m---------------------------------------------------------------------------\u001b[0m",
            "\u001b[0;31mTclError\u001b[0m                                  Traceback (most recent call last)",
            "\u001b[0;32m<ipython-input-26-df53f793a4b7>\u001b[0m in \u001b[0;36m<cell line: 2>\u001b[0;34m()\u001b[0m\n\u001b[1;32m      1\u001b[0m \u001b[0;31m# Run the application\u001b[0m\u001b[0;34m\u001b[0m\u001b[0;34m\u001b[0m\u001b[0m\n\u001b[1;32m      2\u001b[0m \u001b[0;32mif\u001b[0m \u001b[0m__name__\u001b[0m \u001b[0;34m==\u001b[0m \u001b[0;34m\"__main__\"\u001b[0m\u001b[0;34m:\u001b[0m\u001b[0;34m\u001b[0m\u001b[0;34m\u001b[0m\u001b[0m\n\u001b[0;32m----> 3\u001b[0;31m     \u001b[0mroot\u001b[0m \u001b[0;34m=\u001b[0m \u001b[0mtk\u001b[0m\u001b[0;34m.\u001b[0m\u001b[0mTk\u001b[0m\u001b[0;34m(\u001b[0m\u001b[0;34m)\u001b[0m\u001b[0;34m\u001b[0m\u001b[0;34m\u001b[0m\u001b[0m\n\u001b[0m\u001b[1;32m      4\u001b[0m     \u001b[0mapp\u001b[0m \u001b[0;34m=\u001b[0m \u001b[0mEraserApp\u001b[0m\u001b[0;34m(\u001b[0m\u001b[0mroot\u001b[0m\u001b[0;34m)\u001b[0m\u001b[0;34m\u001b[0m\u001b[0;34m\u001b[0m\u001b[0m\n\u001b[1;32m      5\u001b[0m     \u001b[0mroot\u001b[0m\u001b[0;34m.\u001b[0m\u001b[0mmainloop\u001b[0m\u001b[0;34m(\u001b[0m\u001b[0;34m)\u001b[0m\u001b[0;34m\u001b[0m\u001b[0;34m\u001b[0m\u001b[0m\n",
            "\u001b[0;32m/usr/lib/python3.10/tkinter/__init__.py\u001b[0m in \u001b[0;36m__init__\u001b[0;34m(self, screenName, baseName, className, useTk, sync, use)\u001b[0m\n\u001b[1;32m   2297\u001b[0m                 \u001b[0mbaseName\u001b[0m \u001b[0;34m=\u001b[0m \u001b[0mbaseName\u001b[0m \u001b[0;34m+\u001b[0m \u001b[0mext\u001b[0m\u001b[0;34m\u001b[0m\u001b[0;34m\u001b[0m\u001b[0m\n\u001b[1;32m   2298\u001b[0m         \u001b[0minteractive\u001b[0m \u001b[0;34m=\u001b[0m \u001b[0;32mFalse\u001b[0m\u001b[0;34m\u001b[0m\u001b[0;34m\u001b[0m\u001b[0m\n\u001b[0;32m-> 2299\u001b[0;31m         \u001b[0mself\u001b[0m\u001b[0;34m.\u001b[0m\u001b[0mtk\u001b[0m \u001b[0;34m=\u001b[0m \u001b[0m_tkinter\u001b[0m\u001b[0;34m.\u001b[0m\u001b[0mcreate\u001b[0m\u001b[0;34m(\u001b[0m\u001b[0mscreenName\u001b[0m\u001b[0;34m,\u001b[0m \u001b[0mbaseName\u001b[0m\u001b[0;34m,\u001b[0m \u001b[0mclassName\u001b[0m\u001b[0;34m,\u001b[0m \u001b[0minteractive\u001b[0m\u001b[0;34m,\u001b[0m \u001b[0mwantobjects\u001b[0m\u001b[0;34m,\u001b[0m \u001b[0museTk\u001b[0m\u001b[0;34m,\u001b[0m \u001b[0msync\u001b[0m\u001b[0;34m,\u001b[0m \u001b[0muse\u001b[0m\u001b[0;34m)\u001b[0m\u001b[0;34m\u001b[0m\u001b[0;34m\u001b[0m\u001b[0m\n\u001b[0m\u001b[1;32m   2300\u001b[0m         \u001b[0;32mif\u001b[0m \u001b[0museTk\u001b[0m\u001b[0;34m:\u001b[0m\u001b[0;34m\u001b[0m\u001b[0;34m\u001b[0m\u001b[0m\n\u001b[1;32m   2301\u001b[0m             \u001b[0mself\u001b[0m\u001b[0;34m.\u001b[0m\u001b[0m_loadtk\u001b[0m\u001b[0;34m(\u001b[0m\u001b[0;34m)\u001b[0m\u001b[0;34m\u001b[0m\u001b[0;34m\u001b[0m\u001b[0m\n",
            "\u001b[0;31mTclError\u001b[0m: no display name and no $DISPLAY environment variable"
          ]
        }
      ]
    },
    {
      "cell_type": "markdown",
      "source": [
        "##Flowing With Data Structures\n",
        "In the information flow lesson, we discussed using a variable storing a number as an example of scope. We saw that changes we made to the number inside a function did not stay unless we returned it. This is true for what we call immutable data types which include things like numbers and strings.\n",
        "\n",
        "However, there are also mutable data types where changes stay even if we don't return anything. Some examples of mutable data types are lists and dictionaries. This means that you should be mindful when modifying lists and dictionaries within helper functions since their changes stay whether or not you return them.\n",
        "\n",
        "To see this in action, fill out the add_three_copies(...) function which takes a list and some data and then adds three copies of the data to the list. Don't return anything and see what happens! Compare this process to the x = change(x) example and note the differences.\n",
        "\n",
        "Here is an example run of this program (user input in bold italics):\n",
        "\n",
        "Enter a message to copy: Hello world!\n",
        "\n",
        "List before: []\n",
        "\n",
        "List after: ['Hello world!', 'Hello world!', 'Hello world!']"
      ],
      "metadata": {
        "id": "4BRoLU2XMZSY"
      }
    },
    {
      "cell_type": "code",
      "source": [
        "user_message: str = input(\"Enter a message to copy: \")\n",
        "message_list: list = []\n",
        "print(f\"List before: {message_list}\")\n",
        "\n",
        "def main():\n",
        "  for i in range(3):\n",
        "    message_list.append(user_message)\n",
        "\n",
        "  print(f\"List after: {message_list}\")\n",
        "\n",
        "main()"
      ],
      "metadata": {
        "colab": {
          "base_uri": "https://localhost:8080/"
        },
        "id": "kYihF-jFMlby",
        "outputId": "34667c4a-7dbb-4943-9353-d62010945559"
      },
      "execution_count": null,
      "outputs": [
        {
          "output_type": "stream",
          "name": "stdout",
          "text": [
            "Enter a message to copy: Hello World!\n",
            "List before: []\n",
            "List after: ['Hello World!', 'Hello World!', 'Hello World!']\n"
          ]
        }
      ]
    },
    {
      "cell_type": "markdown",
      "source": [
        "##Get First Element\n",
        "Fill out the function get_first_element(lst) which takes in a list lst as a parameter and prints the first element in the list. The list is guaranteed to be non-empty. We've written some code for you which prompts the user to input the list one element at a time."
      ],
      "metadata": {
        "id": "g-xlDWvUQkjz"
      }
    },
    {
      "cell_type": "code",
      "source": [
        "def get_first_element(lst):\n",
        "    if lst:  # Check if the list is not empty\n",
        "        print(\"First element:\", lst[0])\n",
        "    else:\n",
        "        print(\"The list is empty, no first element to display.\")\n",
        "\n",
        "def get_lst():\n",
        "    \"\"\"\n",
        "    Prompts the user to enter one element at a time and returns the list.\n",
        "    \"\"\"\n",
        "    lst = []\n",
        "    while True:\n",
        "        elem = input(\"Please enter an element for the list (or press Enter to finish): \")\n",
        "        if elem == \"\":\n",
        "            break\n",
        "        lst.append(elem)\n",
        "    return lst\n",
        "\n",
        "def main():\n",
        "    lst = get_lst()\n",
        "    get_first_element(lst)\n",
        "\n",
        "if __name__ == '__main__':\n",
        "    main()\n"
      ],
      "metadata": {
        "id": "xmLUMqB0Qqeb",
        "colab": {
          "base_uri": "https://localhost:8080/"
        },
        "outputId": "6544cca3-5aad-4843-a798-010b2e169164"
      },
      "execution_count": null,
      "outputs": [
        {
          "output_type": "stream",
          "name": "stdout",
          "text": [
            "Please enter an element for the list (or press Enter to finish): 98\n",
            "Please enter an element for the list (or press Enter to finish): 4\n",
            "Please enter an element for the list (or press Enter to finish): 3\n",
            "Please enter an element for the list (or press Enter to finish): 5\n",
            "Please enter an element for the list (or press Enter to finish): \n",
            "First element: 98\n"
          ]
        }
      ]
    },
    {
      "cell_type": "markdown",
      "source": [
        "##Get Last Element\n",
        "Fill out the function get_last_element(lst) which takes in a list lst as a parameter and prints the last element in the list. The list is guaranteed to be non-empty, but there are no guarantees on its length."
      ],
      "metadata": {
        "id": "92c03Q5NsoBK"
      }
    },
    {
      "cell_type": "code",
      "source": [
        "def get_last_element(lst):\n",
        "    if lst:  # Check if the list is not empty\n",
        "        print(\"Last element:\", lst[-1])\n",
        "    else:\n",
        "        print(\"The list is empty.\")\n",
        "\n",
        "def get_lst():\n",
        "    \"\"\"\n",
        "    Prompts the user to enter one element at a time and returns the list.\n",
        "    \"\"\"\n",
        "    lst = []\n",
        "    while True:\n",
        "        elem = input(\"Please enter an element for the list (or press Enter to finish): \")\n",
        "        if elem == \"\":\n",
        "            break\n",
        "        lst.append(elem)\n",
        "    return lst\n",
        "\n",
        "def main():\n",
        "    lst = get_lst()\n",
        "    get_last_element(lst)\n",
        "\n",
        "if __name__ == '__main__':\n",
        "    main()\n"
      ],
      "metadata": {
        "id": "a59XMsFL0l7j",
        "colab": {
          "base_uri": "https://localhost:8080/"
        },
        "outputId": "7d588354-423e-4439-bdad-d4677dca946b"
      },
      "execution_count": null,
      "outputs": [
        {
          "output_type": "stream",
          "name": "stdout",
          "text": [
            "Please enter an element for the list (or press Enter to finish): 5\n",
            "Please enter an element for the list (or press Enter to finish): 4\n",
            "Please enter an element for the list (or press Enter to finish): 3\n",
            "Please enter an element for the list (or press Enter to finish): 2\n",
            "Please enter an element for the list (or press Enter to finish): 99\n",
            "Please enter an element for the list (or press Enter to finish): \n",
            "Last element: 99\n"
          ]
        }
      ]
    },
    {
      "cell_type": "markdown",
      "source": [
        "##Get List\n",
        "Write a program which continuously asks the user to enter values which are added one by one into a list. When the user presses enter without typing anything, print the list.\n",
        "\n",
        "Here's a sample run (user input is in blue):\n",
        "\n",
        "Enter a value: 1 Enter a value: 2 Enter a value: 3 Enter a value: Here's the list: ['1', '2', '3']"
      ],
      "metadata": {
        "id": "tzAUeN9H1R3q"
      }
    },
    {
      "cell_type": "code",
      "source": [
        "def main():\n",
        "    my_list = []\n",
        "    while True:\n",
        "        value = input(\"Please enter an element for the list: \")\n",
        "        if value == \"\":\n",
        "            break\n",
        "        my_list.append(value)\n",
        "    my_list.sort()\n",
        "    print(\"Here's the list:\", my_list)\n",
        "\n",
        "main()"
      ],
      "metadata": {
        "colab": {
          "base_uri": "https://localhost:8080/"
        },
        "id": "64sSJGDy1Y4M",
        "outputId": "a4096f8e-4018-46cc-e45d-2fdfb657c32f"
      },
      "execution_count": null,
      "outputs": [
        {
          "output_type": "stream",
          "name": "stdout",
          "text": [
            "Please enter an element for the list: 99\n",
            "Please enter an element for the list: 98\n",
            "Please enter an element for the list: 97\n",
            "Please enter an element for the list: 96\n",
            "Please enter an element for the list: 95\n",
            "Please enter an element for the list: 94\n",
            "Please enter an element for the list: \n",
            "Here's the list: ['94', '95', '96', '97', '98', '99']\n"
          ]
        }
      ]
    },
    {
      "cell_type": "markdown",
      "source": [
        "##Shorten\n",
        "Fill out the function shorten(lst) which removes elements from the end of lst, which is a list, and prints each item it removes until lst is MAX_LENGTH items long. If lst is already shorter than MAX_LENGTH you should leave it unchanged. We've written a main() function for you which gets a list and passes it into your function once you run the program. For the autograder to pass you will need MAX_LENGTH to be 3, but feel free to change it around to test your program."
      ],
      "metadata": {
        "id": "ggl5g4e84caN"
      }
    },
    {
      "cell_type": "code",
      "source": [
        "MAX_LENGTH = 3\n",
        "\n",
        "def shorten(lst):\n",
        "    while len(lst) > MAX_LENGTH:\n",
        "        removed_item = lst.pop()\n",
        "        print(\"Removed:\", removed_item)\n",
        "\n",
        "def get_lst():\n",
        "    \"\"\"\n",
        "    Prompts the user to enter one element of the list at a time and returns the resulting list.\n",
        "    \"\"\"\n",
        "    lst = []\n",
        "    elem = input(\"Please enter an element of the list or press enter to stop. \")\n",
        "    while elem != \"\":\n",
        "        lst.append(elem)\n",
        "        elem = input(\"Please enter an element of the list or press enter to stop. \")\n",
        "    return lst\n",
        "    def main():\n",
        "        lst = get_lst()\n",
        "        shorten(lst)\n",
        "\n",
        "if __name__ == '__main__':\n",
        "    main()"
      ],
      "metadata": {
        "id": "0mRj2YeN4eqt",
        "colab": {
          "base_uri": "https://localhost:8080/"
        },
        "outputId": "da99b0e1-f8c6-45f9-f027-2f9a68e5c274"
      },
      "execution_count": null,
      "outputs": [
        {
          "output_type": "stream",
          "name": "stdout",
          "text": [
            "Please enter an element of the list or press enter to stop. 5\n",
            "Please enter an element of the list or press enter to stop. 4\n",
            "Please enter an element of the list or press enter to stop. 3\n",
            "Please enter an element of the list or press enter to stop. 2\n",
            "Please enter an element of the list or press enter to stop. 1\n",
            "Please enter an element of the list or press enter to stop. \n",
            "Removed: 1\n",
            "Removed: 2\n"
          ]
        }
      ]
    },
    {
      "cell_type": "markdown",
      "source": [
        "#03 If Statement\n",
        "## Print Events\n",
        "Write a program that prints the first 20 even numbers. There are several correct approaches, but they all use a loop of some sort. Do no write twenty print statements\n",
        "\n",
        "The first even number is 0:\n",
        "\n",
        "0 2 4 6 8 10 12 14 16 18 20 22 24 26 28 30 32 34 36 38"
      ],
      "metadata": {
        "id": "2uSwq87HvjQl"
      }
    },
    {
      "cell_type": "code",
      "source": [
        "def main():\n",
        "  even_no: int = 0\n",
        "  for i in range(20):\n",
        "    print(i * 2, end= \" \")\n",
        "    # print(even_no, end=\" \")\n",
        "    # even_no += 2\n",
        "main()"
      ],
      "metadata": {
        "colab": {
          "base_uri": "https://localhost:8080/"
        },
        "id": "oFKtCF2gv6p8",
        "outputId": "bbce343e-b8cf-437c-a5ba-c5acf59a6fb3"
      },
      "execution_count": null,
      "outputs": [
        {
          "output_type": "stream",
          "name": "stdout",
          "text": [
            "0 2 4 6 8 10 12 14 16 18 20 22 24 26 28 30 32 34 36 38 "
          ]
        }
      ]
    },
    {
      "cell_type": "markdown",
      "source": [
        "##International Voting Age\n",
        "Write a program which asks a user for their age and lets them know if they can or can't vote in the following three fictional countries.\n",
        "\n",
        "Around the world, different countries have different voting ages. In the fictional countries of Peturksbouipo, Stanlau, and Mayengua, the voting ages are very different:\n",
        "\n",
        "the voting age in Peturksbouipo is 16 (in real life, this is the voting age in, for example, Scotland, Ethiopia, and Austria)\n",
        "\n",
        "the voting age in Stanlau is 25 (in real life this is the voting age in the United Arab Emirates)\n",
        "\n",
        "the voting age in Mayengua is 48 (in real life, as far as we can tell, this isn't the voting age anywhere)\n",
        "\n",
        "Your code should prompt the for their age and print whether or not they can vote in Peturksbouipo, Stanlau, or Mayengua.\n",
        "\n",
        "Here's a sample run of the program (user input is in blue):\n",
        "\n",
        "How old are you? 20 You can vote in Peturksbouipo where the voting age is 16. You cannot vote in Stanlau where the voting age is 25. You cannot vote in Mayengua where the voting age is 48."
      ],
      "metadata": {
        "id": "0uztNAj1w7XE"
      }
    },
    {
      "cell_type": "code",
      "source": [
        "age_peturksbouipo: int = 16\n",
        "age_stanlau: int = 25\n",
        "age_mayengua: int = 48\n",
        "def main():\n",
        "  age: int = int(input(\"How old are you? \"))\n",
        "  if age >= age_peturksbouipo:\n",
        "    print (f\"You can vote in Peturksbouipo where the voting age is {age_peturksbouipo}\")\n",
        "  else:\n",
        "    print (f\"You can't vote in Peturksbouipo where the voting age is {age_peturksbouipo}\")\n",
        "  if age >= age_stanlau:\n",
        "    print (f\"You can vote in Stanlau where the voting age is {age_stanlau}\")\n",
        "  else:\n",
        "    print (f\"You can't vote in Stanlau where the voting age is {age_stanlau}\")\n",
        "  if age >= age_mayengua:\n",
        "    print (f\"You can vote in Mayengua where the voting age is {age_mayengua}\")\n",
        "  else:\n",
        "    print (f\"You can't vote in Mayengua where the voting age is {age_mayengua}\")\n",
        "main()"
      ],
      "metadata": {
        "colab": {
          "base_uri": "https://localhost:8080/"
        },
        "id": "L_zLWh2oxkpU",
        "outputId": "55544f1e-194e-4fa0-9734-615da4be1c9a"
      },
      "execution_count": null,
      "outputs": [
        {
          "output_type": "stream",
          "name": "stdout",
          "text": [
            "How old are you? 20\n",
            "You can vote in Peturksbouipo where the voting age is 16\n",
            "You can't vote in Stanlau where the voting age is 25\n",
            "You can't vote in Mayengua where the voting age is 48\n"
          ]
        }
      ]
    },
    {
      "cell_type": "markdown",
      "source": [
        "##Leap Year\n",
        "Write a program that reads a year from the user and tells whether a given year is a leap year or not.\n",
        "\n",
        "A leap year (also known as an intercalary year or bissextile year) is a calendar year that contains an additional day (or, in the case of a lunisolar calendar, a month) added to keep the calendar year synchronized with the astronomical year or seasonal year. In the Gregorian calendar, each leap year has 366 days instead of 365, by extending February to 29 days rather than the common 28.\n",
        "\n",
        "In the Gregorian calendar, three criteria must be checked to identify leap years:\n",
        "\n",
        "The given year must be evenly divisible by 4;\n",
        "If the year can also be evenly divided by 100, it is NOT a leap year; unless:\n",
        "The year is also evenly divisible by 400. Then it is a leap year.\n",
        "Your code should use the above criteria to check for a leap year and then print either \"That's a leap year!\" or \"That's not a leap year.\""
      ],
      "metadata": {
        "id": "TlG-WTnxc2uA"
      }
    },
    {
      "cell_type": "code",
      "source": [
        "import calendar\n",
        "\n",
        "def main():\n",
        "    year = int(input(\"Please enter a year: \"))\n",
        "\n",
        "    if calendar.isleap(year):\n",
        "        print(\"That's a leap year!\")\n",
        "    else:\n",
        "        print(\"That's not a leap year.\")\n",
        "\n",
        "main()"
      ],
      "metadata": {
        "colab": {
          "base_uri": "https://localhost:8080/"
        },
        "id": "van5eVgLd6Y0",
        "outputId": "978d3b42-73cf-4f60-a8fd-149bb35c62ce"
      },
      "execution_count": null,
      "outputs": [
        {
          "output_type": "stream",
          "name": "stdout",
          "text": [
            "Please enter a year: 2019\n",
            "That's not a leap year.\n"
          ]
        }
      ]
    },
    {
      "cell_type": "markdown",
      "source": [
        "##Tall Enough to Ride\n",
        "Write a program which asks the user how tall they are and prints whether or not they're taller than a pre-specified minimum height.\n",
        "\n",
        "In amusement parks (ah, the good old pre-pandemic days...), rollercoasters frequently have minimum height requirements for safety reasons. Assume for now that the minimum height is 50 of whatever height unit you'd like\n",
        "\n",
        "Here's two sample runs (user input is in bold italics):\n",
        "\n",
        "How tall are you? 100\n",
        "\n",
        "You're tall enough to ride!\n",
        "\n",
        "How tall are you? 10\n",
        "\n",
        "You're not tall enough to ride, but maybe next year!\n",
        "\n",
        "(For an extra challenge, write code which will repeatedly ask a user how tall they are and tell them whether or not they're tall enough to ride, until the user doesn't enter a height at all, in which case the program stops."
      ],
      "metadata": {
        "id": "Vqhi_rTYnNnU"
      }
    },
    {
      "cell_type": "code",
      "source": [
        "minimum_height: int = 50\n",
        "def main():\n",
        "  while True:\n",
        "    height: int = int(input(\"How tall are you? \"))\n",
        "\n",
        "    if height >= minimum_height:\n",
        "      print(\"You're tall enough to ride!\")\n",
        "      break\n",
        "\n",
        "    else:\n",
        "      print(\"You're not tall enough to ride, but maybe next year!\")\n",
        "\n",
        "main()"
      ],
      "metadata": {
        "colab": {
          "base_uri": "https://localhost:8080/"
        },
        "id": "r1aLpHEsnfGa",
        "outputId": "b9b0d371-13d2-4912-c9bb-82bc10096c18"
      },
      "execution_count": null,
      "outputs": [
        {
          "output_type": "stream",
          "name": "stdout",
          "text": [
            "How tall are you? 49\n",
            "You're not tall enough to ride, but maybe next year!\n",
            "How tall are you? 51\n",
            "You're tall enough to ride!\n"
          ]
        }
      ]
    },
    {
      "cell_type": "markdown",
      "source": [
        "##Random Numbers\n",
        "Print 10 random numbers in the range 1 to 100.\n",
        "\n",
        "Here is an example run:\n",
        "\n",
        "45 79 61 47 52 10 16 83 19 12\n",
        "\n",
        "Each time you run your program you should get different numbers\n",
        "\n",
        "81 76 70 1 27 63 96 100 32 92\n",
        "\n",
        "Recall that the python random library has a function randint which returns an integer in the range set by the parameters (inclusive). For example this call would produce a random integer between 1 and 6, which could include 1 and could include 6:\n",
        "\n",
        "value = random.randint(1, 6)"
      ],
      "metadata": {
        "id": "RydfvOVk4tgZ"
      }
    },
    {
      "cell_type": "code",
      "source": [
        "import random\n",
        "n_number: int = 10\n",
        "min_number: int = 1\n",
        "max_number: int = 100\n",
        "def main():\n",
        "  for i in range(n_number):\n",
        "    print(random.randint(min_number, max_number), end=\" \")\n",
        "main()"
      ],
      "metadata": {
        "colab": {
          "base_uri": "https://localhost:8080/"
        },
        "id": "Zgm7lCZ17MMn",
        "outputId": "6b2b1cdb-364f-4d68-8b4a-49a7d58bcee0"
      },
      "execution_count": null,
      "outputs": [
        {
          "output_type": "stream",
          "name": "stdout",
          "text": [
            "21 13 74 75 11 23 43 12 42 21 "
          ]
        }
      ]
    },
    {
      "cell_type": "markdown",
      "source": [
        "#04 Dictionaries\n",
        "##Count Numbers\n",
        "This program counts the number of times each number appears in a list. It uses a dictionary to keep track of the information.\n",
        "\n",
        "An example run of the program looks like this (user input is in blue):\n",
        "\n",
        "Enter a number: 3 Enter a number: 4 Enter a number: 3 Enter a number: 6 Enter a number: 4 Enter a number: 3 Enter a number: 12 Enter a number: 3 appears 3 times. 4 appears 2 times. 6 appears 1 times. 12 appears 1 times."
      ],
      "metadata": {
        "id": "1BrOcqRH83f9"
      }
    },
    {
      "cell_type": "code",
      "source": [
        "def get_lst():\n",
        "    lst = []\n",
        "\n",
        "    while True:\n",
        "      user_input = input(\"Please enter an element of the list or press enter to stop. \")\n",
        "      if user_input == \"\":\n",
        "        break\n",
        "      number = int(user_input)\n",
        "      lst.append(number)\n",
        "    return lst\n",
        "\n",
        "def main():\n",
        "  num_dict = {}\n",
        "  lst = get_lst()\n",
        "  for num in lst:\n",
        "    if num not in num_dict:\n",
        "      num_dict[num] = 1\n",
        "    else:\n",
        "      num_dict[num] += 1\n",
        "\n",
        "  for num in num_dict:\n",
        "    print(f\"{num} appears {num_dict[num]} times.\")\n",
        "main()"
      ],
      "metadata": {
        "colab": {
          "base_uri": "https://localhost:8080/"
        },
        "id": "1C991KP39DYr",
        "outputId": "0f314c9c-5f17-42a3-f73d-14ea88c4a975"
      },
      "execution_count": null,
      "outputs": [
        {
          "output_type": "stream",
          "name": "stdout",
          "text": [
            "Please enter an element of the list or press enter to stop. 100\n",
            "Please enter an element of the list or press enter to stop. 99\n",
            "Please enter an element of the list or press enter to stop. 101\n",
            "Please enter an element of the list or press enter to stop. 98\n",
            "Please enter an element of the list or press enter to stop. \n",
            "100 appears 1 times.\n",
            "99 appears 1 times.\n",
            "101 appears 1 times.\n",
            "98 appears 1 times.\n"
          ]
        }
      ]
    },
    {
      "cell_type": "markdown",
      "source": [
        "#Phone Book\n",
        "In this program we show an example of using dictionaries to keep track of information in a phonebook."
      ],
      "metadata": {
        "id": "5oc3iBvzG1Xg"
      }
    },
    {
      "cell_type": "code",
      "source": [
        "def phoneBook():\n",
        "    phonebook = {}\n",
        "    while True:\n",
        "      user_input_name = input(\"Please enter name of A/C holder or press enter to stop: \")\n",
        "      if user_input_name == \"\":\n",
        "        break\n",
        "        book = user_input_name\n",
        "      tel_number = input(\"Please enter phone number: \")\n",
        "      number = int(tel_number)\n",
        "      phonebook[user_input_name] = number\n",
        "    return phonebook\n",
        "\n",
        "def tel_dict(phonebook):\n",
        "    for book in phonebook:\n",
        "      print(f\"{book} >>>> {phonebook[book]}\")\n",
        "\n",
        "\n",
        "def main():\n",
        "    phonebook = phoneBook()\n",
        "    tel_dict(phonebook)\n",
        "main()"
      ],
      "metadata": {
        "colab": {
          "base_uri": "https://localhost:8080/"
        },
        "id": "cmflJLOdG8q0",
        "outputId": "9889a682-b951-4c69-d093-c95e8747bfc5"
      },
      "execution_count": null,
      "outputs": [
        {
          "output_type": "stream",
          "name": "stdout",
          "text": [
            "Please enter name of A/C holder or press enter to stop: john\n",
            "Please enter phone number: 456123\n",
            "Please enter name of A/C holder or press enter to stop: carter\n",
            "Please enter phone number: 321654\n",
            "Please enter name of A/C holder or press enter to stop: james\n",
            "Please enter phone number: 963258\n",
            "Please enter name of A/C holder or press enter to stop: \n",
            "john >>>> 456123\n",
            "carter >>>> 321654\n",
            "james >>>> 963258\n"
          ]
        }
      ]
    },
    {
      "cell_type": "markdown",
      "source": [
        "## Pop up Shop\n",
        "There's a small fruit shop nearby your house that you like to buy from. Since you buy several fruit at a time, you want to keep track of how much the fruit will cost before you go. Luckily you wrote down what fruits were available and how much one of each fruit costs.\n",
        "\n",
        "Write a program that loops through a dictionary of fruits, prompting the user to see how many of each fruit they want to buy, and then prints out the total combined cost of all of the fruits.\n",
        "\n",
        "Here is an example run of the program (user input is in bold italics):\n",
        "\n",
        "How many (apple) do you want?: 2\n",
        "\n",
        "How many (durian) do you want?: 0\n",
        "\n",
        "How many (jackfruit) do you want?: 1\n",
        "\n",
        "How many (kiwi) do you want?: 0\n",
        "\n",
        "How many (rambutan) do you want?: 1\n",
        "\n",
        "How many (mango) do you want?: 3\n",
        "\n",
        "Your total is $99.5"
      ],
      "metadata": {
        "id": "pMhR7vfDq7_v"
      }
    },
    {
      "cell_type": "code",
      "source": [
        "def main():\n",
        "  fruit_store = {\"apple\": 2.5,\n",
        "                \"apricot\": 1.75,\n",
        "                \"durian\": 2.00,\n",
        "                \"jackfruit\": 1.25,\n",
        "                \"kiwi\": 1.20,\n",
        "                \"rambutan\": 1.00,\n",
        "                \"mango\": 1.50}\n",
        "  total_bill = 0\n",
        "  for fruit in fruit_store:\n",
        "    price = fruit_store[fruit]\n",
        "    user_input = input(f\"How many {fruit} do you want?: \")\n",
        "    amount = int(user_input)\n",
        "    total_bill += (price * amount)\n",
        "\n",
        "  print(f\"Your total bill is ${total_bill}\")\n",
        "main()"
      ],
      "metadata": {
        "colab": {
          "base_uri": "https://localhost:8080/"
        },
        "id": "TzU4ZvJjq-5Q",
        "outputId": "4ee1adad-0cd4-492c-ef10-3fce5b745e0b"
      },
      "execution_count": null,
      "outputs": [
        {
          "output_type": "stream",
          "name": "stdout",
          "text": [
            "How many apple do you want?: 5\n",
            "How many apricot do you want?: 3\n",
            "How many durian do you want?: 4\n",
            "How many jackfruit do you want?: 5\n",
            "How many kiwi do you want?: 9\n",
            "How many rambutan do you want?: 7\n",
            "How many mango do you want?: 5\n",
            "Your total bill is $57.3\n"
          ]
        }
      ]
    },
    {
      "cell_type": "markdown",
      "source": [
        "##Powerfull Password\n",
        "You want to be safe online and use different passwords for different websites. However, you are forgetful at times and want to make a program that can match which password belongs to which website without storing the actual password!\n",
        "\n",
        "This can be done via something called hashing. Hashing is when we take something and convert it into a different, unique identifier. This is done using a hash function. Luckily, there are several resources that can help us with this.\n",
        "\n",
        "For example, using a hash function called SHA256(...) something as simple as\n",
        "\n",
        "hello\n",
        "\n",
        "can be hashed into a much more complex\n",
        "\n",
        "2cf24dba5fb0a30e26e83b2ac5b9e29e1b161e5c1fa7425e73043362938b9824\n",
        "\n",
        "Fill out the login(...) function for a website that hashes their passwords. Login should return True if an email's stored password hash in stored_logins is the same as the hash of password_to_check.\n",
        "\n",
        "(Hint. You will need to use the provided hash_password(...) function. You don't necessarily need to know how it works, just know that hash_password(...) returns the hash for the password!)"
      ],
      "metadata": {
        "id": "LpbIFWKgEgvB"
      }
    },
    {
      "cell_type": "code",
      "source": [
        "from hashlib import sha256\n",
        "\n",
        "def login(email, stored_logins, password_to_check):\n",
        "    \"\"\"\n",
        "    Returns True if the hash of the password we are checking matches the one in stored_logins\n",
        "    for a specific email. Otherwise, returns False.\n",
        "\n",
        "    email: the email we are checking the password for\n",
        "    stored_logins: a dictionary pointing from an email to its hashed password\n",
        "    password_to_check: a password we want to test alongside the email to login with\n",
        "    \"\"\"\n",
        "\n",
        "    if stored_logins[email] == hash_password(password_to_check):\n",
        "        return True\n",
        "\n",
        "    return False\n",
        "\n",
        "# There is no need to edit code beyond this point\n",
        "\n",
        "def hash_password(password):\n",
        "    \"\"\"\n",
        "    Takes in a password and returns the SHA256 hashed value for that specific password.\n",
        "\n",
        "    Inputs:\n",
        "        password: the password we want\n",
        "\n",
        "    Outputs:\n",
        "        the hashed form of the input password\n",
        "    \"\"\"\n",
        "\n",
        "    return sha256(password.encode()).hexdigest()\n",
        "\n",
        "def main():\n",
        "    # stored_logins is a dictionary with emails as keys and hashed passwords as values\n",
        "    stored_logins = {\n",
        "        \"example@gmail.com\": \"5e884898da28047151d0e56f8dc6292773603d0d6aabbdd62a11ef721d1542d8\",\n",
        "        \"code_in_placer@cip.org\": \"973607a4ae7b4cf7d96a100b0fb07e8519cc4f70441d41214a9f811577bb06cc\",\n",
        "        \"student@stanford.edu\": \"882c6df720fd99f5eebb1581a1cf975625cea8a160283011c0b9512bb56c95fb\"\n",
        "    }\n",
        "\n",
        "    print(login(\"example@gmail.com\", stored_logins, \"word\"))\n",
        "    print(login(\"example@gmail.com\", stored_logins, \"password\"))\n",
        "\n",
        "    print(login(\"code_in_placer@cip.org\", stored_logins, \"Karel\"))\n",
        "    print(login(\"code_in_placer@cip.org\", stored_logins, \"karel\"))\n",
        "\n",
        "    print(login(\"student@stanford.edu\", stored_logins, \"password\"))\n",
        "    print(login(\"student@stanford.edu\", stored_logins, \"123!456?789\"))\n",
        "\n",
        "\n",
        "if __name__ == '__main__':\n",
        "    main()"
      ],
      "metadata": {
        "colab": {
          "base_uri": "https://localhost:8080/"
        },
        "id": "Y-bnNKngEkwW",
        "outputId": "726c674f-d696-4ec0-c46d-9068cebf965a"
      },
      "execution_count": null,
      "outputs": [
        {
          "output_type": "stream",
          "name": "stdout",
          "text": [
            "False\n",
            "True\n",
            "False\n",
            "True\n",
            "False\n",
            "True\n"
          ]
        }
      ]
    },
    {
      "cell_type": "markdown",
      "source": [
        "#05 Loops Control Flow\n",
        "##Guess My Number\n",
        "Guess My Number\n",
        "\n",
        "I am thinking of a number between 0 and 99... Enter a guess: 50 Your guess is too high\n",
        "\n",
        "Enter a new number: 25 Your guess is too low\n",
        "\n",
        "Enter a new number: 40 Your guess is too low\n",
        "\n",
        "Enter a new number: 45 Your guess is too low\n",
        "\n",
        "Enter a new number: 48 Congrats! The number was: 48"
      ],
      "metadata": {
        "id": "1xNYYagxHVCK"
      }
    },
    {
      "cell_type": "code",
      "source": [
        "statement: str = \"I am thinking of a number between 1 and 99...\"\n",
        "statement += \"\\nEnter a guess: \"\n",
        "\n",
        "def main():\n",
        "    secret_number = random.randint(1, 99)\n",
        "    guess = int(input(statement).strip())\n",
        "\n",
        "    while guess != secret_number:\n",
        "        if guess < secret_number:\n",
        "            print(\"Your guess is too low\")\n",
        "        else:\n",
        "            print(\"Your guess is too high\")\n",
        "\n",
        "        print()\n",
        "        guess = int(input(\"Enter a new guess: \"))\n",
        "\n",
        "    print(f\"Congrats! The number was: {secret_number}\")\n",
        "\n",
        "main()"
      ],
      "metadata": {
        "id": "mnZTuzWLLX0e"
      },
      "execution_count": 12,
      "outputs": []
    },
    {
      "cell_type": "code",
      "source": [
        "import random\n",
        "\n",
        "statement: str = \"I am thinking of a number between 1 and 99...\"\n",
        "statement += \"\\nEnter a guess: \"\n",
        "\n",
        "def main():\n",
        "    secret_number = random.randint(1, 99)\n",
        "    global statement  # Declare that we are using the global `statement` variable\n",
        "\n",
        "    while True:\n",
        "        try:\n",
        "            # Prompt the user for a numeric guess\n",
        "            guess = int(input(statement).strip())\n",
        "\n",
        "            # Check the guess against the secret number\n",
        "            if guess < secret_number:\n",
        "                print(\"Your guess is too low\")\n",
        "            elif guess > secret_number:\n",
        "                print(\"Your guess is too high\")\n",
        "            else:\n",
        "                print(f\"Congrats! The number was: {secret_number}\")\n",
        "                break  # Exit the loop on correct guess\n",
        "\n",
        "            print()  # Add a blank line for better readability\n",
        "            statement = \"Enter a new guess: \"  # Update the prompt message\n",
        "\n",
        "        except ValueError:\n",
        "            # Handle non-numeric input\n",
        "            print(\"Invalid input. Please enter a numeric value.\")\n",
        "\n",
        "main()\n"
      ],
      "metadata": {
        "colab": {
          "base_uri": "https://localhost:8080/"
        },
        "id": "VfMJI8IPHioW",
        "outputId": "660768eb-2bf8-4e04-a94b-bc941f9a52bd"
      },
      "execution_count": 9,
      "outputs": [
        {
          "output_type": "stream",
          "name": "stdout",
          "text": [
            "I am thinking of a number between 1 and 99...\n",
            "Enter a guess: oop\n",
            "Invalid input. Please enter a numeric value.\n",
            "I am thinking of a number between 1 and 99...\n",
            "Enter a guess: 60\n",
            "Your guess is too low\n",
            "\n",
            "Enter a new guess: 80\n",
            "Your guess is too high\n",
            "\n",
            "Enter a new guess: 70\n",
            "Your guess is too high\n",
            "\n",
            "Enter a new guess: 65\n",
            "Your guess is too low\n",
            "\n",
            "Enter a new guess: 66\n",
            "Your guess is too low\n",
            "\n",
            "Enter a new guess: 67\n",
            "Your guess is too low\n",
            "\n",
            "Enter a new guess: 68\n",
            "Your guess is too low\n",
            "\n",
            "Enter a new guess: 69\n",
            "Congrats! The number was: 69\n"
          ]
        }
      ]
    }
  ]
}