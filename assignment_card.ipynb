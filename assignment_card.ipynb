{
  "nbformat": 4,
  "nbformat_minor": 0,
  "metadata": {
    "colab": {
      "provenance": [],
      "authorship_tag": "ABX9TyN94ScY/7kU1Gz7FgQYcg8U",
      "include_colab_link": true
    },
    "kernelspec": {
      "name": "python3",
      "display_name": "Python 3"
    },
    "language_info": {
      "name": "python"
    }
  },
  "cells": [
    {
      "cell_type": "markdown",
      "metadata": {
        "id": "view-in-github",
        "colab_type": "text"
      },
      "source": [
        "<a href=\"https://colab.research.google.com/github/sm-aamer/Practice-Python/blob/main/assignment_card.ipynb\" target=\"_parent\"><img src=\"https://colab.research.google.com/assets/colab-badge.svg\" alt=\"Open In Colab\"/></a>"
      ]
    },
    {
      "cell_type": "code",
      "execution_count": null,
      "metadata": {
        "colab": {
          "base_uri": "https://localhost:8080/"
        },
        "id": "erBFULTNFPbt",
        "outputId": "e8ebd1a5-bd6f-49e3-8dda-d697e047e2ef"
      },
      "outputs": [
        {
          "output_type": "stream",
          "name": "stdout",
          "text": [
            "<built-in function id> Hamza\n",
            "<built-in function id> Hamza\n"
          ]
        }
      ],
      "source": [
        "name: str=\"Hamza\"\n",
        "name1: str=\"Hamza\"\n",
        "\n",
        "print(id , name )\n",
        "print( id , name1 )"
      ]
    },
    {
      "cell_type": "code",
      "source": [
        "name: str=\"Hello World \\\n",
        "Pakistan\\tZindabad\"\n",
        "print(name)\n",
        "display(name)"
      ],
      "metadata": {
        "colab": {
          "base_uri": "https://localhost:8080/",
          "height": 53
        },
        "id": "c-6PbJDmIVui",
        "outputId": "2f69a078-cae7-410b-9998-111755616962"
      },
      "execution_count": null,
      "outputs": [
        {
          "output_type": "stream",
          "name": "stdout",
          "text": [
            "Hello World Pakistan\tZindabad\n"
          ]
        },
        {
          "output_type": "display_data",
          "data": {
            "text/plain": [
              "'Hello World Pakistan\\tZindabad'"
            ],
            "application/vnd.google.colaboratory.intrinsic+json": {
              "type": "string"
            }
          },
          "metadata": {}
        }
      ]
    },
    {
      "cell_type": "code",
      "source": [
        "name: str = \"Syed Muhammad Aamer\"\n",
        "age: int = 42\n",
        "dob: str = \"1982-08-23\"\n",
        "\n",
        "print(\"Hello, my name is \" + name + \", my age is \" + str(age) + \", and my DOB is \" + dob + \".\")"
      ],
      "metadata": {
        "colab": {
          "base_uri": "https://localhost:8080/"
        },
        "id": "_TJu0wlz-bnb",
        "outputId": "55191f2f-bff2-4b22-d73b-fcd36f90c9a2"
      },
      "execution_count": null,
      "outputs": [
        {
          "output_type": "stream",
          "name": "stdout",
          "text": [
            "Hello, my name is Syed Muhammad Aamer, my age is 42, and my DOB is 1982-08-23.\n"
          ]
        }
      ]
    },
    {
      "cell_type": "code",
      "source": [
        "name: str = \"Syed Muhammad Aamer\"\n",
        "age: int = 42\n",
        "dob: str = \"23-08-1982\"\n",
        "print(\"Hello, my name is %s, and I am %d years old\"%(name, age))\n"
      ],
      "metadata": {
        "colab": {
          "base_uri": "https://localhost:8080/"
        },
        "id": "i9RAHQRCMH4w",
        "outputId": "d0f45402-2f92-4bff-facc-06307b0cabdc"
      },
      "execution_count": null,
      "outputs": [
        {
          "output_type": "stream",
          "name": "stdout",
          "text": [
            "Hello, my name is Syed Muhammad Aamer, and I am 42 years old\n"
          ]
        }
      ]
    },
    {
      "cell_type": "code",
      "source": [
        "name: str = \"Syed Muhammad Aamer\"\n",
        "age: int = 42\n",
        "dob: str = \"23-08-1982\"\n",
        "message: str=f\"Hello my name is {name} and my age is {age} and my DOB is {dob}\"\n",
        "print(message)"
      ],
      "metadata": {
        "colab": {
          "base_uri": "https://localhost:8080/"
        },
        "id": "p6bJVjDqQWZs",
        "outputId": "b7f559d1-69e7-483c-a71d-78990265af51"
      },
      "execution_count": null,
      "outputs": [
        {
          "output_type": "stream",
          "name": "stdout",
          "text": [
            "Hello my name is Syed Muhammad Aamer and my age is 42 and my DOB is 23-08-1982\n"
          ]
        }
      ]
    },
    {
      "cell_type": "code",
      "source": [
        "# prompt: i want to make a program, wherein a student will input his data (i.e Name, Roll No. Course Name, Campus and Batch) for prep of ID Card. Moreover, the student will upload his picture, which will be displayed at his ID card. Output of the ID card will appear in terminal. the ID card will be displayed in professional way with border and heading.\n",
        "\n",
        "def generate_id_card():\n",
        "  \"\"\"\n",
        "  Generates an ID card with student information and an uploaded picture.\n",
        "  \"\"\"\n",
        "\n",
        "  # Get student information\n",
        "  name = input(\"Enter your name: \")\n",
        "  roll_no = input(\"Enter your roll number: \")\n",
        "  course_name = input(\"Enter your course name: \")\n",
        "  campus = input(\"Enter your campus: \")\n",
        "  batch = input(\"Enter your batch: \")\n",
        "\n",
        "  # Get the image file path\n",
        "  image_path = input(\"Enter the path to your image file: \")\n",
        "\n",
        "  # Display the ID card\n",
        "  print(\"+\" + \"-\" * 40 + \"+\")\n",
        "  print(\"|        ID Card        |\")\n",
        "  print(\"+\" + \"-\" * 40 + \"+\")\n",
        "  print(\"| Name:\", name.center(30), \"|\")\n",
        "  print(\"| Roll No:\", roll_no.center(28), \"|\")\n",
        "  print(\"| Course:\", course_name.center(28), \"|\")\n",
        "  print(\"| Campus:\", campus.center(29), \"|\")\n",
        "  print(\"| Batch:\", batch.center(30), \"|\")\n",
        "  print(\"+\" + \"-\" * 40 + \"+\")\n",
        "  print(\"  [Image not supported in this environment]\")\n",
        "  print(\"+\" + \"-\" * 40 + \"+\")\n",
        "\n",
        "# Run the function\n",
        "generate_id_card()\n"
      ],
      "metadata": {
        "colab": {
          "base_uri": "https://localhost:8080/"
        },
        "id": "ES8Lf--aSWSy",
        "outputId": "21b3b572-571a-4a37-a9b3-72c3148b5670"
      },
      "execution_count": null,
      "outputs": [
        {
          "output_type": "stream",
          "name": "stdout",
          "text": [
            "Enter your name: Syed Muhammad Aamer\n",
            "Enter your roll number: PIAIC123\n",
            "Enter your course name: Gen AI\n",
            "Enter your campus: Karsaz\n",
            "Enter your batch: 61\n",
            "Enter the path to your image file: /content/sample_data/123.jpg\n",
            "+----------------------------------------+\n",
            "|        ID Card        |\n",
            "+----------------------------------------+\n",
            "| Name:      Syed Muhammad Aamer       |\n",
            "| Roll No:           PIAIC123           |\n",
            "| Course:            Gen AI            |\n",
            "| Campus:             Karsaz            |\n",
            "| Batch:               61               |\n",
            "+----------------------------------------+\n",
            "  [Image not supported in this environment]\n",
            "+----------------------------------------+\n"
          ]
        }
      ]
    },
    {
      "cell_type": "code",
      "source": [
        "# prompt: write a program for printing ID card of student\n",
        "\n",
        "id: str = \"ID CARD\"\n",
        "name: str = input(\"Enter Your Name Here: \")\n",
        "rollno: str = input(\"Enter Your Roll No: \")\n",
        "dl: str = input(\"Enter Distance Leaning: \")\n",
        "cen: str = input(\"Enter Center: \")\n",
        "campus: str = input(\"Enter Campus: \")\n",
        "day_time: str = input(\"Enter Day/Time: \")\n",
        "\n",
        "print(f\"\"\"\n",
        "{id}\n",
        "Name: {name}\n",
        "Roll No: {rollno}\n",
        "Distance Learning: {dl}\n",
        "Center: {cen}\n",
        "Campus: {campus}\n",
        "Day/Time: {day_time}\n",
        "\"\"\")\n"
      ],
      "metadata": {
        "colab": {
          "base_uri": "https://localhost:8080/"
        },
        "id": "mf7Dow2_VUBJ",
        "outputId": "11b728cb-1e83-4a40-a419-c473aedd69fe"
      },
      "execution_count": null,
      "outputs": [
        {
          "output_type": "stream",
          "name": "stdout",
          "text": [
            "Enter Your Name Here: Syed Muhammad Aamer\n",
            "Enter Your Roll No: PIAIC321\n",
            "Enter Distance Leaning: No\n",
            "Enter Center: Bahria Auditorium\n",
            "Enter Campus: Karsaz, Karachi\n",
            "Enter Day/Time: 15 Sep 2024\n",
            "\n",
            "ID CARD\n",
            "Name: Syed Muhammad Aamer\n",
            "Roll No: PIAIC321\n",
            "Distance Learning: No\n",
            "Center: Bahria Auditorium\n",
            "Campus: Karsaz, Karachi\n",
            "Day/Time: 15 Sep 2024\n",
            "\n"
          ]
        }
      ]
    },
    {
      "cell_type": "code",
      "source": [
        "from PIL import Image, ImageDraw, ImageFont\n",
        "\n",
        "# Create the student ID card function\n",
        "def create_student_id(student_name, student_id, grade, image_path, centre, campus):\n",
        "    # Define ID card size (width x height)\n",
        "    card_width, card_height = 400, 400\n",
        "\n",
        "    # Create a blank ID card (white background)\n",
        "    id_card = Image.new('RGB', (card_width, card_height), 'white')\n",
        "    draw = ImageDraw.Draw(id_card)\n",
        "\n",
        "    # Load and paste student image (resize to fit the ID card)\n",
        "    student_image = Image.open(image_path)\n",
        "    student_image = student_image.resize((80, 80))  # Resize to 80x80 pixels\n",
        "    id_card.paste(student_image, (20, 20))  # Paste image on the card\n",
        "\n",
        "    # Load a font for text (using a default font here)\n",
        "    try:\n",
        "        font = ImageFont.truetype(\"arial.ttf\", 14)\n",
        "    except IOError:\n",
        "        font = ImageFont.load_default()\n",
        "    # Print the ID card details in the terminal with a professional format\n",
        "    print(\"\\t\\t\\tSTUDENT ID CARD\")\n",
        "    print(\"\\t---------------------------------------------\")\n",
        "    print(f\"\\tName\\t\\t: {student_name}\")\n",
        "    print(f\"\\tID\\t\\t: {student_id}\")\n",
        "    print(f\"\\tGrade\\t\\t: {grade}\")\n",
        "    print(f\"\\tCentre\\t\\t: {centre}\")\n",
        "    print(f\"\\tCampus\\t\\t: {campus}\")\n",
        "    print(\"\\t---------------------------------------------\")\n",
        "\n",
        "    # # Add student details to the ID card\n",
        "    # draw.text((120, 20), f\"Name: {student_name}\", fill=\"black\", font=font)\n",
        "    # draw.text((120, 50), f\"ID: {student_id}\", fill=\"black\", font=font)\n",
        "    # draw.text((120, 80), f\"Grade: {grade}\", fill=\"black\", font=font)\n",
        "    # draw.text((120, 110), f\"Centre: {centre}\", fill=\"black\", font=font)  # Added centre to the ID card\n",
        "    # draw.text((120, 140), f\"Campus: {campus}\", fill=\"black\", font=font)  # Added campus to the ID card\n",
        "\n",
        "    # Add a label for the ID card\n",
        "    # draw.text((200, 180), \"STUDENT ID CARD\", fill=\"black\", font=font)\n",
        "\n",
        "    # Display the ID card\n",
        "    id_card.show()\n",
        "\n",
        "    # Save the ID card as an image file\n",
        "    id_card.save('/content/sample_data/photo_card.jpg')\n",
        "\n",
        "# Input details\n",
        "student_name = \"Syed Muhammad Aamer\"\n",
        "student_id = \"PIAIC-123\"\n",
        "grade = \"No\"  # Corrected to 'grade' to match the function parameter name\n",
        "centre = \"Bahria Auditorium\"\n",
        "campus = \"Karsaz, Karachi\"\n",
        "image_path = \"/content/sample_data/123.jpg\"  # Path to the student's photo\n",
        "\n",
        "# Call the function to create the ID card\n",
        "create_student_id(student_name, student_id, grade, image_path, centre, campus)\n"
      ],
      "metadata": {
        "colab": {
          "base_uri": "https://localhost:8080/"
        },
        "id": "nJPjkYZdKE4N",
        "outputId": "a7fef269-accc-4ec0-9746-e80c9b1393a4"
      },
      "execution_count": null,
      "outputs": [
        {
          "output_type": "stream",
          "name": "stdout",
          "text": [
            "\t\t\tSTUDENT ID CARD\n",
            "\t---------------------------------------------\n",
            "\tName\t\t: Syed Muhammad Aamer\n",
            "\tID\t\t: PIAIC-123\n",
            "\tGrade\t\t: No\n",
            "\tCentre\t\t: Bahria Auditorium\n",
            "\tCampus\t\t: Karsaz, Karachi\n",
            "\t---------------------------------------------\n"
          ]
        }
      ]
    },
    {
      "cell_type": "markdown",
      "source": [],
      "metadata": {
        "id": "aMJfLn012s5M"
      }
    },
    {
      "cell_type": "code",
      "source": [
        "# Create the student ID card function\n",
        "def create_student_id(student_name, student_id, grade, centre, campus):\n",
        "    # Print the ID card details in the terminal with a professional format\n",
        "    print(\"\\t\\t\\tSTUDENT ID CARD\")\n",
        "    print(\"\\t---------------------------------------------\")\n",
        "    print(f\"\\tName\\t\\t: {student_name}\")\n",
        "    print(f\"\\tID\\t\\t: {student_id}\")\n",
        "    print(f\"\\tGrade\\t\\t: {grade}\")\n",
        "    print(f\"\\tCentre\\t\\t: {centre}\")\n",
        "    print(f\"\\tCampus\\t\\t: {campus}\")\n",
        "    print(\"\\t---------------------------------------------\")\n",
        "\n",
        "# Input details\n",
        "student_name = \"Syed Muhammad Aamer\"\n",
        "student_id = \"PIAIC-123\"\n",
        "grade = \"No\"\n",
        "centre = \"Bahria Auditorium\"\n",
        "campus = \"Karsaz, Karachi\"\n",
        "\n",
        "# Call the function to create the ID card\n",
        "create_student_id(student_name, student_id, grade, centre, campus)\n"
      ],
      "metadata": {
        "colab": {
          "base_uri": "https://localhost:8080/"
        },
        "id": "iogFh7vFLM39",
        "outputId": "984fb8fb-d628-469f-c26e-969882343da0"
      },
      "execution_count": null,
      "outputs": [
        {
          "output_type": "stream",
          "name": "stdout",
          "text": [
            "\t\t\tSTUDENT ID CARD\n",
            "\t---------------------------------------------\n",
            "\tName\t\t: Syed Muhammad Aamer\n",
            "\tID\t\t: PIAIC-123\n",
            "\tGrade\t\t: No\n",
            "\tCentre\t\t: Bahria Auditorium\n",
            "\tCampus\t\t: Karsaz, Karachi\n",
            "\t---------------------------------------------\n"
          ]
        }
      ]
    },
    {
      "cell_type": "code",
      "source": [
        "from google.colab import drive\n",
        "drive.mount('/content/drive')"
      ],
      "metadata": {
        "id": "HoWVVTWh6L_F"
      },
      "execution_count": null,
      "outputs": []
    },
    {
      "cell_type": "code",
      "source": [
        "from PIL import Image, ImageDraw, ImageFont\n",
        "\n",
        "def create_id_card():\n",
        "    # Input student details\n",
        "    name = input(\"Enter the student's name: \")\n",
        "    roll_no = input(\"Enter the roll number: \")\n",
        "    city = input(\"Enter the city: \")\n",
        "    center = input(\"Enter the center: \")\n",
        "    campus = input(\"Enter the campus: \")\n",
        "    days_time = input(\"Enter the days/time (e.g., Sunday - 09:00 AM to 01:00 PM): \")\n",
        "    batch = input(\"Enter the batch number: \")\n",
        "    image_path = input(\"Enter the path to the student's photo: \")\n",
        "\n",
        "    # Load the student's photo\n",
        "    try:\n",
        "        student_photo = Image.open(image_path)\n",
        "        student_photo = student_photo.resize((100, 100))  # Resize to fit on ID card\n",
        "    except FileNotFoundError:\n",
        "        print(\"Image file not found. Please provide a correct path.\")\n",
        "        return\n",
        "\n",
        "    # Create a blank ID card\n",
        "    card_width, card_height = 400, 250\n",
        "    card = Image.new('RGB', (card_width, card_height), color='white')\n",
        "    draw = ImageDraw.Draw(card)\n",
        "\n",
        "    # Load a font\n",
        "    try:\n",
        "        font = ImageFont.truetype(\"arial.ttf\", 15)\n",
        "    except IOError:\n",
        "        print(\"Font not found. Using default font.\")\n",
        "        font = ImageFont.load_default()\n",
        "\n",
        "    # Add text to the ID card\n",
        "    draw.text((10, 10), f\"Name: {name}\", fill='black', font=font)\n",
        "    draw.text((10, 40), f\"Roll No: {roll_no}\", fill='black', font=font)\n",
        "    draw.text((10, 70), f\"City: {city}\", fill='black', font=font)\n",
        "    draw.text((10, 100), f\"Center: {center}\", fill='black', font=font)\n",
        "    draw.text((10, 130), f\"Campus: {campus}\", fill='black', font=font)\n",
        "    draw.text((10, 160), f\"Days/Time: {days_time}\", fill='black', font=font)\n",
        "    draw.text((10, 190), f\"Batch: {batch}\", fill='black', font=font)\n",
        "\n",
        "    # Paste the student's photo onto the ID card\n",
        "    card.paste(student_photo, (290, 70))\n",
        "\n",
        "    # Save the ID card\n",
        "    card.save('student_id_card.png')\n",
        "    print(\"ID card created successfully and saved as 'student_id_card.png'.\")\n",
        "\n",
        "create_id_card()"
      ],
      "metadata": {
        "colab": {
          "base_uri": "https://localhost:8080/"
        },
        "id": "9X0s-MPf2zUD",
        "outputId": "66a3a0ca-7174-42f1-be7f-5f1d9ed1d963"
      },
      "execution_count": null,
      "outputs": [
        {
          "output_type": "stream",
          "name": "stdout",
          "text": [
            "Enter the student's name: S M Umair\n",
            "Enter the roll number: PIAIC123\n",
            "Enter the city: Karachi\n",
            "Enter the center: Bahria Auditorium\n",
            "Enter the campus: Karsaz\n",
            "Enter the days/time (e.g., Sunday - 09:00 AM to 01:00 PM): Sunday - Morning\n",
            "Enter the batch number: 61 - Q1\n",
            "Enter the path to the student's photo: /Umair.png\n",
            "Font not found. Using default font.\n",
            "ID card created successfully and saved as 'student_id_card.png'.\n"
          ]
        }
      ]
    },
    {
      "cell_type": "code",
      "source": [
        "from PIL import Image, ImageDraw, ImageFont\n",
        "\n",
        "def create_id_card():\n",
        "    # Input student details\n",
        "    name = input(\"Enter the student's name: \")\n",
        "    roll_no = input(\"Enter the roll number: \")\n",
        "    city = input(\"Enter the city: \")\n",
        "    center = input(\"Enter the center: \")\n",
        "    campus = input(\"Enter the campus: \")\n",
        "    days_time = input(\"Enter the days/time (e.g., Sunday - 09:00 AM to 01:00 PM): \")\n",
        "    batch = input(\"Enter the batch number: \")\n",
        "    image_path = input(\"Enter the path to the student's photo: \")\n",
        "    background_path = input(\"Enter the path to the background image: \")\n",
        "\n",
        "    # Load the student's photo\n",
        "    try:\n",
        "        student_photo = Image.open(image_path).convert(\"RGBA\")  # Convert to RGBA to handle transparency\n",
        "        student_photo = student_photo.resize((100, 100))  # Resize to fit on ID card\n",
        "    except FileNotFoundError:\n",
        "        print(\"Student photo file not found. Please provide a correct path.\")\n",
        "        return\n",
        "\n",
        "    # Load the background image\n",
        "    try:\n",
        "        background = Image.open(background_path).convert(\"RGBA\")\n",
        "        background = background.resize((400, 250))  # Resize background to ID card size\n",
        "        # Set background opacity to low tendency (transparency)\n",
        "        background = background.point(lambda p: p * 0.5)\n",
        "    except FileNotFoundError:\n",
        "        print(\"Background image file not found. Please provide a correct path.\")\n",
        "        return\n",
        "\n",
        "    # Create a new ID card with the background image\n",
        "    card = Image.new('RGBA', (400, 250), (255, 255, 255, 255))  # White background with full opacity\n",
        "    card.paste(background, (0, 0), background)\n",
        "\n",
        "    draw = ImageDraw.Draw(card)\n",
        "\n",
        "    # Load a font\n",
        "    # try:\n",
        "    #     font = ImageFont.truetype(\"calibri.ttf\", 18)\n",
        "    # except IOError:\n",
        "    #     print(\"Font not found. Using default font.\")\n",
        "    #     font = ImageFont.load_default()\n",
        "\n",
        "    try:\n",
        "        font = ImageFont.truetype(\"/usr/share/fonts/truetype/dejavu/DejaVuSans-Bold.ttf\", 20)  # Adjust path if needed\n",
        "    except IOError:\n",
        "        print(\"Font not found. Using default font.\")\n",
        "        font = ImageFont.load_default()\n",
        "\n",
        "    # Calculate the width of the text and the card to center-align the text\n",
        "    text = \"STUDENT ID CARD\\n\"\n",
        "    text_width, _ = draw.textsize(text, font=font)\n",
        "    card_width = card.width\n",
        "    x_position = (card_width - text_width) / 2\n",
        "\n",
        "    # Draw the text at the calculated position\n",
        "    draw.text((x_position, 10), text, fill='black', font=font)\n",
        "\n",
        "    # Add text to the ID card\n",
        "    # draw.text((10, 10), f\"STUDENT ID CARD\\n\", fill='black', font=font)\n",
        "    # print(f\"\\tName\\t\\t: {student_name}\")\n",
        "    draw.text((10, 30), f\"Name\\t: {name}\", fill='black', font=font)\n",
        "    draw.text((10, 60), f\"Roll No\\t: {roll_no}\", fill='black', font=font)\n",
        "    draw.text((10, 90), f\"City\\t: {city}\", fill='black', font=font)\n",
        "    draw.text((10, 120), f\"Center\\t: {center}\", fill='black', font=font)\n",
        "    draw.text((10, 150), f\"Campus\\t: {campus}\", fill='black', font=font)\n",
        "    draw.text((10, 180), f\"Days/Time\\t: {days_time}\", fill='black', font=font)\n",
        "    draw.text((10, 210), f\"Batch\\t: {batch}\", fill='black', font=font)\n",
        "\n",
        "    # Get coordinates for the student's photo\n",
        "    try:\n",
        "        x_pos = int(input(\"Enter the x-coordinate for the photo placement: \"))\n",
        "        y_pos = int(input(\"Enter the y-coordinate for the photo placement: \"))\n",
        "    except ValueError:\n",
        "        print(\"Invalid coordinates. Using default position (290, 70).\")\n",
        "        x_pos, y_pos = 290, 70\n",
        "\n",
        "    # Remove alpha channel from student photo before pasting\n",
        "    student_photo_rgb = student_photo.convert(\"RGB\")\n",
        "\n",
        "    # Paste the student's photo onto the ID card at the specified position\n",
        "    card.paste(student_photo_rgb, (x_pos, y_pos))\n",
        "\n",
        "    # Save the ID card\n",
        "    card = card.convert('RGB')  # Convert to RGB before saving as PNG\n",
        "    card.save('student_id_card8.png')\n",
        "    print(\"ID card created successfully and saved as 'student_id_card8.png'.\")\n",
        "\n",
        "create_id_card()\n"
      ],
      "metadata": {
        "colab": {
          "base_uri": "https://localhost:8080/"
        },
        "id": "i_aCH-xPKJ_W",
        "outputId": "ef6dc23b-a13e-4026-d1bf-bdae042d3426"
      },
      "execution_count": null,
      "outputs": [
        {
          "name": "stdout",
          "output_type": "stream",
          "text": [
            "Enter the student's name: Syed Muhammad Umair\n",
            "Enter the roll number: PIAIC-123\n",
            "Enter the city: Karachi\n",
            "Enter the center: Bahria Auditorium\n",
            "Enter the campus: Karsaz\n",
            "Enter the days/time (e.g., Sunday - 09:00 AM to 01:00 PM): Sunday - 09:00 AM to 01:00 PM\n",
            "Enter the batch number: 61 - Q1\n",
            "Enter the path to the student's photo: /content/sample_data/Umair.png\n",
            "Enter the path to the background image: /content/sample_data/images3.png\n"
          ]
        },
        {
          "output_type": "stream",
          "name": "stderr",
          "text": [
            "<ipython-input-17-48f0e2765658>:54: DeprecationWarning: textsize is deprecated and will be removed in Pillow 10 (2023-07-01). Use textbbox or textlength instead.\n",
            "  text_width, _ = draw.textsize(text, font=font)\n"
          ]
        },
        {
          "output_type": "stream",
          "name": "stdout",
          "text": [
            "Font not found. Using default font.\n",
            "Enter the x-coordinate for the photo placement: 290\n",
            "Enter the y-coordinate for the photo placement: 30\n",
            "ID card created successfully and saved as 'student_id_card8.png'.\n"
          ]
        }
      ]
    },
    {
      "cell_type": "code",
      "source": [],
      "metadata": {
        "id": "29kvmRN3ZBRI"
      },
      "execution_count": null,
      "outputs": []
    }
  ]
}